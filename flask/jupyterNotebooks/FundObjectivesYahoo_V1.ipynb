{
 "cells": [
  {
   "cell_type": "code",
   "execution_count": 1,
   "metadata": {
    "colab": {},
    "colab_type": "code",
    "id": "UU7hGWnSDerm"
   },
   "outputs": [],
   "source": [
    "import requests\n",
    "from bs4 import BeautifulSoup\n",
    "import datetime\n",
    "import urllib.request  \n",
    "import os\n",
    "import shutil"
   ]
  },
  {
   "cell_type": "code",
   "execution_count": 21,
   "metadata": {
    "colab": {},
    "colab_type": "code",
    "id": "oZX43Q5UDgMp"
   },
   "outputs": [],
   "source": [
    "#link = 'https://money.usnews.com/funds/search?name='\n",
    "#link = 'https://www.marketwatch.com/tools/markets/funds/a-z'\n",
    "#link='https://www.marketwatch.com/tools/markets/funds/a-z/A/2'\n",
    "#link='https://www.marketwatch.com/tools/markets/funds/a-z/A/3'\n",
    "\n",
    "#link='https://www.marketwatch.com/tools/markets/funds/a-z/A/4'\n",
    "#link='https://www.marketwatch.com/tools/markets/funds/a-z/A/5'\n",
    "#link='https://www.marketwatch.com/tools/markets/funds/a-z/A/6'\n",
    "#link='https://www.marketwatch.com/tools/markets/funds/a-z/A/7'\n",
    "#link=https://www.marketwatch.com/tools/markets/funds/a-z/A/8\n",
    "#link='https://www.marketwatch.com/tools/markets/funds/a-z/A/9'\n",
    "#link=https://www.marketwatch.com/tools/markets/funds/a-z/A/10\n",
    "#link='https://www.marketwatch.com/tools/markets/funds/a-z/D'\n",
    "#link='https://www.marketwatch.com/tools/markets/funds/a-z/J/1'\n",
    "link='https://finance.yahoo.com/screener/predefined/top_mutual_funds?offset=0&count=1000'\n",
    "#link='https://www.marketwatch.com/tools/markets/funds/a-z/H'\n",
    "#link = 'https://www.cienotes.com/igcse-accounting-past-papers/'\n",
    "link_pre = 'https://finance.yahoo.com'\n",
    "link_pre1='https://finance.yahoo.com/quote/FGADX/performance?p=FGADX'\n",
    "#https://www.marketwatch.com/tools/markets/funds\n",
    "subjects_list = []\n",
    "#subjects_list.append('Mathematics – Additional – 0606')\n",
    "#subjects_list.append('History – 0470')\n",
    "#subjects_list.append('Computer Science – 0478')\n",
    "#subjects_list.append('Physics – 0625')\n",
    "#subjects_list.append('Chemistry – 0620')\n",
    "#subjects_list.append('Biology – 0610')\n",
    "#subjects_list.append('Biology – 0610')\n",
    "#English – First Language – 0500\n"
   ]
  },
  {
   "cell_type": "code",
   "execution_count": 22,
   "metadata": {},
   "outputs": [],
   "source": [
    "import urllib.request\n",
    "import shutil\n",
    "#url = \"https://www.cienotes.com/wp-content/uploads/2019/06/0470_m19_gt.pdf\"\n",
    "#output_file = url.split('/')[-1]\n",
    "def pdfWrite(url,output_file):\n",
    "    with urllib.request.urlopen(url) as response, open(output_file, 'wb') as out_file:\n",
    "        shutil.copyfileobj(response, out_file)"
   ]
  },
  {
   "cell_type": "code",
   "execution_count": 4,
   "metadata": {},
   "outputs": [],
   "source": [
    "headers = {\n",
    "  'User-Agent': 'Mozilla/5.0 (X11; Linux x86_64; rv:68.0) Gecko/20100101 Firefox/68.0'\n",
    "}"
   ]
  },
  {
   "cell_type": "code",
   "execution_count": 5,
   "metadata": {
    "colab": {},
    "colab_type": "code",
    "id": "9tjvbDKvDrTQ"
   },
   "outputs": [],
   "source": [
    "#page = requests.get(link)\n",
    "page = requests.get(link, stream=True, headers=headers)"
   ]
  },
  {
   "cell_type": "code",
   "execution_count": 6,
   "metadata": {
    "colab": {},
    "colab_type": "code",
    "id": "OpXvOYmvDwfJ"
   },
   "outputs": [],
   "source": [
    "soup=BeautifulSoup(page.text, 'html.parser')"
   ]
  },
  {
   "cell_type": "code",
   "execution_count": 10,
   "metadata": {
    "colab": {},
    "colab_type": "code",
    "id": "0Ela5MMzDxPS"
   },
   "outputs": [],
   "source": [
    "#subjects = soup.find_all(class_='entry clr')\n",
    "subjects = soup.find_all('table', class_='W(100%)')"
   ]
  },
  {
   "cell_type": "code",
   "execution_count": 14,
   "metadata": {},
   "outputs": [
    {
     "data": {
      "text/plain": [
       "[<table class=\"W(100%)\" data-reactid=\"38\"><thead data-reactid=\"39\"><tr class=\"C($c-fuji-grey-j) BdB Bdbc($finLightGrayAlt)\" data-reactid=\"40\"><th class=\"Ta(start) Pstart(6px) Pend(10px) Miw(90px) Bgc(white) Fz(xs) Va(m) Py(5px)! Fw(400)! Ta(start) Start(0) Pend(10px) Pos(st) Bgc(white) Ta(start)!\" data-reactid=\"41\"><label class=\"Ta(c) Pos(r) Va(tb) Pend(5px) D(n)--print\" data-reactid=\"42\"><input class=\"Pos(a) V(h)\" data-reactid=\"43\" type=\"checkbox\"/><svg class=\"Va(m)! H(16px) W(16px) Stk($plusGray)! Fill($plusGray)! Cur(p)\" data-icon=\"checkbox-unchecked\" data-reactid=\"44\" height=\"16\" style=\"fill:#000;stroke:#000;stroke-width:0;vertical-align:bottom;\" viewbox=\"0 0 24 24\" width=\"16\"><path d=\"M3 3h18v18H3V3zm19-2H2c-.553 0-1 .448-1 1v20c0 .552.447 1 1 1h20c.552 0 1-.448 1-1V2c0-.552-.448-1-1-1z\" data-reactid=\"45\"></path></svg></label><span data-reactid=\"46\">Symbol</span><div class=\"W(3px) Pend(5px) Pos(a) Start(100%) T(0) H(100%) Bg($pfColumnFakeShadowGradient) Pe(n)\" data-reactid=\"47\"></div></th><th class=\"Ta(start) Px(10px) Bgc(white) Fz(xs) Va(m) Py(5px)! Fw(400)!\" data-reactid=\"48\"><span data-reactid=\"49\">Name</span></th><th class=\"Ta(end) Pstart(20px) Bgc(white) Fz(xs) Va(m) Py(5px)! Cur(p) Bgc($extraLightBlue):h Fw(400)!\" data-reactid=\"50\"><span data-reactid=\"51\">Change</span></th><th class=\"Ta(end) Pstart(20px) Bgc(white) Fz(xs) Va(m) Py(5px)! Cur(p) Bgc($extraLightBlue):h C(black) Fw(500)\" data-reactid=\"52\"><span data-reactid=\"53\">% Change</span><svg class=\"Va(b)! W(14px) H(14px) Fill(black)! Stk(black)! Cur(p)\" data-icon=\"caret-down\" data-reactid=\"54\" height=\"48\" style=\"fill:#000;stroke:#000;stroke-width:0;vertical-align:bottom;\" viewbox=\"0 0 48 48\" width=\"48\"><path d=\"M24.21 33.173l12.727-12.728c.78-.78.78-2.048 0-2.828-.78-.78-2.047-.78-2.828 0l-9.9 9.9-9.9-9.9c-.78-.78-2.047-.78-2.827 0-.78.78-.78 2.047 0 2.828L24.21 33.173z\" data-reactid=\"55\"></path></svg></th><th class=\"Ta(end) Pstart(20px) Bgc(white) Fz(xs) Va(m) Py(5px)! Cur(p) Bgc($extraLightBlue):h Fw(400)!\" data-reactid=\"56\"><span data-reactid=\"57\">Price (Intraday)</span></th><th class=\"Ta(end) Pstart(20px) Bgc(white) Fz(xs) Va(m) Py(5px)! Fw(400)!\" data-reactid=\"58\"><span data-reactid=\"59\">50 Day Average</span></th><th class=\"Ta(end) Pstart(20px) Bgc(white) Fz(xs) Va(m) Py(5px)! Fw(400)!\" data-reactid=\"60\"><span data-reactid=\"61\">200 Day Average</span></th><th class=\"Ta(end) Pstart(20px) Pend(10px) W(120px) Bgc(white) Fz(xs) Va(m) Py(5px)! Fw(400)!\" data-reactid=\"62\"><span data-reactid=\"63\">3-Mo Return</span></th><th class=\"Ta(end) Pstart(20px) Bgc(white) Fz(xs) Va(m) Py(5px)! Fw(400)!\" data-reactid=\"64\"><span data-reactid=\"65\">YTD Return</span></th><th class=\"Ta(end) Pstart(20px) Pend(6px) Bgc(white) Fz(xs) Va(m) Py(5px)! Fw(400)!\" data-reactid=\"66\"><span data-reactid=\"67\">52 Week Range</span></th></tr></thead><tbody data-reactid=\"68\"><tr class=\"simpTblRow Bgc($extraLightBlue):h BdB Bdbc($finLightGrayAlt) Bdbc($tableBorderBlue):h H(32px) Bgc(white)\" data-reactid=\"69\"><td aria-label=\"Symbol\" class=\"Va(m) Ta(start) Pstart(6px) Pend(10px) Miw(90px) Start(0) Pend(10px) simpTblRow:h_Bgc($extraLightBlue) Pos(st) Bgc(white) Bgc(white) Ta(start)! Fz(s)\" data-reactid=\"70\"><label class=\"Ta(c) Pos(r) Va(tb) Pend(5px) D(n)--print\" data-reactid=\"71\"><input class=\"Pos(a) V(h)\" data-reactid=\"72\" type=\"checkbox\"/><svg class=\"Va(m)! H(16px) W(16px) Stk($plusGray)! Fill($plusGray)! Cur(p)\" data-icon=\"checkbox-unchecked\" data-reactid=\"73\" height=\"16\" style=\"fill:#000;stroke:#000;stroke-width:0;vertical-align:bottom;\" viewbox=\"0 0 24 24\" width=\"16\"><path d=\"M3 3h18v18H3V3zm19-2H2c-.553 0-1 .448-1 1v20c0 .552.447 1 1 1h20c.552 0 1-.448 1-1V2c0-.552-.448-1-1-1z\" data-reactid=\"74\"></path></svg></label><a class=\"Fw(600)\" data-reactid=\"75\" href=\"/quote/FGADX?p=FGADX\" title=\"Franklin Gold and Precious Metals Fund Advisor Class\">FGADX</a><div class=\"W(3px) Pos(a) Start(100%) T(0) H(100%) Bg($pfColumnFakeShadowGradient) Pe(n) Pend(5px)\" data-reactid=\"76\"></div></td><td aria-label=\"Name\" class=\"Va(m) Ta(start) Px(10px) Fz(s)\" data-reactid=\"77\"><!-- react-text: 78 -->Franklin Gold and Precious Metals Fund Advisor Class<!-- /react-text --></td><td aria-label=\"Change\" class=\"Va(m) Ta(end) Pstart(20px) Fw(600) Fz(s)\" data-reactid=\"79\"><span class=\"Trsdu(0.3s) Fw(600) C($dataGreen)\" data-reactid=\"80\">+0.19</span></td><td aria-label=\"% Change\" class=\"Va(m) Ta(end) Pstart(20px) Fw(600) Fz(s)\" data-reactid=\"81\"><span class=\"Trsdu(0.3s) Fw(600) C($dataGreen)\" data-reactid=\"82\">+1.08%</span></td><td aria-label=\"Price (Intraday)\" class=\"Va(m) Ta(end) Pstart(20px) Fz(s)\" data-reactid=\"83\"><!-- react-text: 84 -->17.63<!-- /react-text --></td><td aria-label=\"50 Day Average\" class=\"Va(m) Ta(end) Pstart(20px) Fz(s)\" data-reactid=\"85\"><!-- react-text: 86 -->18.27<!-- /react-text --></td><td aria-label=\"200 Day Average\" class=\"Va(m) Ta(end) Pstart(20px) Fz(s)\" data-reactid=\"87\"><!-- react-text: 88 -->17.15<!-- /react-text --></td><td class=\"Va(m) Ta(end) Pstart(20px) Pend(10px) W(120px) Fz(s)\" data-reactid=\"89\"><!-- react-text: 90 -->4.85%<!-- /react-text --></td><td class=\"Va(m) Ta(end) Pstart(20px) Fz(s)\" data-reactid=\"91\"><!-- react-text: 92 -->36.39%<!-- /react-text --></td><td aria-label=\"52 Week Range\" class=\"Va(m) Ta(end) Pstart(20px) Pend(6px) Fz(s)\" data-reactid=\"93\"><canvas data-reactid=\"94\" style=\"width:140px;height:23px;\"></canvas></td></tr><tr class=\"simpTblRow Bgc($extraLightBlue):h BdB Bdbc($finLightGrayAlt) Bdbc($tableBorderBlue):h H(32px) Bgc($altRowColor)\" data-reactid=\"95\"><td aria-label=\"Symbol\" class=\"Va(m) Ta(start) Pstart(6px) Pend(10px) Miw(90px) Start(0) Pend(10px) simpTblRow:h_Bgc($extraLightBlue) Pos(st) Bgc(white) Bgc($altRowColor) Ta(start)! Fz(s)\" data-reactid=\"96\"><label class=\"Ta(c) Pos(r) Va(tb) Pend(5px) D(n)--print\" data-reactid=\"97\"><input class=\"Pos(a) V(h)\" data-reactid=\"98\" type=\"checkbox\"/><svg class=\"Va(m)! H(16px) W(16px) Stk($plusGray)! Fill($plusGray)! Cur(p)\" data-icon=\"checkbox-unchecked\" data-reactid=\"99\" height=\"16\" style=\"fill:#000;stroke:#000;stroke-width:0;vertical-align:bottom;\" viewbox=\"0 0 24 24\" width=\"16\"><path d=\"M3 3h18v18H3V3zm19-2H2c-.553 0-1 .448-1 1v20c0 .552.447 1 1 1h20c.552 0 1-.448 1-1V2c0-.552-.448-1-1-1z\" data-reactid=\"100\"></path></svg></label><a class=\"Fw(600)\" data-reactid=\"101\" href=\"/quote/LDVAX?p=LDVAX\" title=\"Leland Thomson Reuters Venture Capital Index Fund Class A\">LDVAX</a><div class=\"W(3px) Pos(a) Start(100%) T(0) H(100%) Bg($pfColumnFakeShadowGradient) Pe(n) Pend(5px)\" data-reactid=\"102\"></div></td><td aria-label=\"Name\" class=\"Va(m) Ta(start) Px(10px) Fz(s)\" data-reactid=\"103\"><!-- react-text: 104 -->Leland Thomson Reuters Venture Capital Index Fund Class A<!-- /react-text --></td><td aria-label=\"Change\" class=\"Va(m) Ta(end) Pstart(20px) Fw(600) Fz(s)\" data-reactid=\"105\"><span class=\"Trsdu(0.3s) Fw(600) C($dataGreen)\" data-reactid=\"106\">+0.17</span></td><td aria-label=\"% Change\" class=\"Va(m) Ta(end) Pstart(20px) Fw(600) Fz(s)\" data-reactid=\"107\"><span class=\"Trsdu(0.3s) Fw(600) C($dataGreen)\" data-reactid=\"108\">+0.88%</span></td><td aria-label=\"Price (Intraday)\" class=\"Va(m) Ta(end) Pstart(20px) Fz(s)\" data-reactid=\"109\"><!-- react-text: 110 -->19.37<!-- /react-text --></td><td aria-label=\"50 Day Average\" class=\"Va(m) Ta(end) Pstart(20px) Fz(s)\" data-reactid=\"111\"><!-- react-text: 112 -->18.58<!-- /react-text --></td><td aria-label=\"200 Day Average\" class=\"Va(m) Ta(end) Pstart(20px) Fz(s)\" data-reactid=\"113\"><!-- react-text: 114 -->18.89<!-- /react-text --></td><td class=\"Va(m) Ta(end) Pstart(20px) Pend(10px) W(120px) Fz(s)\" data-reactid=\"115\"><!-- react-text: 116 -->-4.00%<!-- /react-text --></td><td class=\"Va(m) Ta(end) Pstart(20px) Fz(s)\" data-reactid=\"117\"><!-- react-text: 118 -->32.45%<!-- /react-text --></td><td aria-label=\"52 Week Range\" class=\"Va(m) Ta(end) Pstart(20px) Pend(6px) Fz(s)\" data-reactid=\"119\"><canvas data-reactid=\"120\" style=\"width:140px;height:23px;\"></canvas></td></tr><tr class=\"simpTblRow Bgc($extraLightBlue):h BdB Bdbc($finLightGrayAlt) Bdbc($tableBorderBlue):h H(32px) Bgc(white)\" data-reactid=\"121\"><td aria-label=\"Symbol\" class=\"Va(m) Ta(start) Pstart(6px) Pend(10px) Miw(90px) Start(0) Pend(10px) simpTblRow:h_Bgc($extraLightBlue) Pos(st) Bgc(white) Bgc(white) Ta(start)! Fz(s)\" data-reactid=\"122\"><label class=\"Ta(c) Pos(r) Va(tb) Pend(5px) D(n)--print\" data-reactid=\"123\"><input class=\"Pos(a) V(h)\" data-reactid=\"124\" type=\"checkbox\"/><svg class=\"Va(m)! H(16px) W(16px) Stk($plusGray)! Fill($plusGray)! Cur(p)\" data-icon=\"checkbox-unchecked\" data-reactid=\"125\" height=\"16\" style=\"fill:#000;stroke:#000;stroke-width:0;vertical-align:bottom;\" viewbox=\"0 0 24 24\" width=\"16\"><path d=\"M3 3h18v18H3V3zm19-2H2c-.553 0-1 .448-1 1v20c0 .552.447 1 1 1h20c.552 0 1-.448 1-1V2c0-.552-.448-1-1-1z\" data-reactid=\"126\"></path></svg></label><a class=\"Fw(600)\" data-reactid=\"127\" href=\"/quote/BFOCX?p=BFOCX\" title=\"Berkshire Focus Fund\">BFOCX</a><div class=\"W(3px) Pos(a) Start(100%) T(0) H(100%) Bg($pfColumnFakeShadowGradient) Pe(n) Pend(5px)\" data-reactid=\"128\"></div></td><td aria-label=\"Name\" class=\"Va(m) Ta(start) Px(10px) Fz(s)\" data-reactid=\"129\"><!-- react-text: 130 -->Berkshire Focus Fund<!-- /react-text --></td><td aria-label=\"Change\" class=\"Va(m) Ta(end) Pstart(20px) Fw(600) Fz(s)\" data-reactid=\"131\"><span class=\"Trsdu(0.3s) Fw(600) C($dataGreen)\" data-reactid=\"132\">+0.25</span></td><td aria-label=\"% Change\" class=\"Va(m) Ta(end) Pstart(20px) Fw(600) Fz(s)\" data-reactid=\"133\"><span class=\"Trsdu(0.3s) Fw(600) C($dataGreen)\" data-reactid=\"134\">+0.85%</span></td><td aria-label=\"Price (Intraday)\" class=\"Va(m) Ta(end) Pstart(20px) Fz(s)\" data-reactid=\"135\"><!-- react-text: 136 -->29.51<!-- /react-text --></td><td aria-label=\"50 Day Average\" class=\"Va(m) Ta(end) Pstart(20px) Fz(s)\" data-reactid=\"137\"><!-- react-text: 138 -->28.81<!-- /react-text --></td><td aria-label=\"200 Day Average\" class=\"Va(m) Ta(end) Pstart(20px) Fz(s)\" data-reactid=\"139\"><!-- react-text: 140 -->29.43<!-- /react-text --></td><td class=\"Va(m) Ta(end) Pstart(20px) Pend(10px) W(120px) Fz(s)\" data-reactid=\"141\"><!-- react-text: 142 -->-2.99%<!-- /react-text --></td><td class=\"Va(m) Ta(end) Pstart(20px) Fz(s)\" data-reactid=\"143\"><!-- react-text: 144 -->30.77%<!-- /react-text --></td><td aria-label=\"52 Week Range\" class=\"Va(m) Ta(end) Pstart(20px) Pend(6px) Fz(s)\" data-reactid=\"145\"><canvas data-reactid=\"146\" style=\"width:140px;height:23px;\"></canvas></td></tr><tr class=\"simpTblRow Bgc($extraLightBlue):h BdB Bdbc($finLightGrayAlt) Bdbc($tableBorderBlue):h H(32px) Bgc($altRowColor)\" data-reactid=\"147\"><td aria-label=\"Symbol\" class=\"Va(m) Ta(start) Pstart(6px) Pend(10px) Miw(90px) Start(0) Pend(10px) simpTblRow:h_Bgc($extraLightBlue) Pos(st) Bgc(white) Bgc($altRowColor) Ta(start)! Fz(s)\" data-reactid=\"148\"><label class=\"Ta(c) Pos(r) Va(tb) Pend(5px) D(n)--print\" data-reactid=\"149\"><input class=\"Pos(a) V(h)\" data-reactid=\"150\" type=\"checkbox\"/><svg class=\"Va(m)! H(16px) W(16px) Stk($plusGray)! Fill($plusGray)! Cur(p)\" data-icon=\"checkbox-unchecked\" data-reactid=\"151\" height=\"16\" style=\"fill:#000;stroke:#000;stroke-width:0;vertical-align:bottom;\" viewbox=\"0 0 24 24\" width=\"16\"><path d=\"M3 3h18v18H3V3zm19-2H2c-.553 0-1 .448-1 1v20c0 .552.447 1 1 1h20c.552 0 1-.448 1-1V2c0-.552-.448-1-1-1z\" data-reactid=\"152\"></path></svg></label><a class=\"Fw(600)\" data-reactid=\"153\" href=\"/quote/SSETX?p=SSETX\" title=\"BNY Mellon Growth Fund Class I\">SSETX</a><div class=\"W(3px) Pos(a) Start(100%) T(0) H(100%) Bg($pfColumnFakeShadowGradient) Pe(n) Pend(5px)\" data-reactid=\"154\"></div></td><td aria-label=\"Name\" class=\"Va(m) Ta(start) Px(10px) Fz(s)\" data-reactid=\"155\"><!-- react-text: 156 -->BNY Mellon Growth Fund Class I<!-- /react-text --></td><td aria-label=\"Change\" class=\"Va(m) Ta(end) Pstart(20px) Fw(600) Fz(s)\" data-reactid=\"157\"><span class=\"Trsdu(0.3s) Fw(600) C($dataGreen)\" data-reactid=\"158\">+0.24</span></td><td aria-label=\"% Change\" class=\"Va(m) Ta(end) Pstart(20px) Fw(600) Fz(s)\" data-reactid=\"159\"><span class=\"Trsdu(0.3s) Fw(600) C($dataGreen)\" data-reactid=\"160\">+0.81%</span></td><td aria-label=\"Price (Intraday)\" class=\"Va(m) Ta(end) Pstart(20px) Fz(s)\" data-reactid=\"161\"><!-- react-text: 162 -->29.59<!-- /react-text --></td><td aria-label=\"50 Day Average\" class=\"Va(m) Ta(end) Pstart(20px) Fz(s)\" data-reactid=\"163\"><!-- react-text: 164 -->28.91<!-- /react-text --></td><td aria-label=\"200 Day Average\" class=\"Va(m) Ta(end) Pstart(20px) Fz(s)\" data-reactid=\"165\"><!-- react-text: 166 -->30.15<!-- /react-text --></td><td class=\"Va(m) Ta(end) Pstart(20px) Pend(10px) W(120px) Fz(s)\" data-reactid=\"167\"><!-- react-text: 168 -->-7.54%<!-- /react-text --></td><td class=\"Va(m) Ta(end) Pstart(20px) Fz(s)\" data-reactid=\"169\"><!-- react-text: 170 -->21.37%<!-- /react-text --></td><td aria-label=\"52 Week Range\" class=\"Va(m) Ta(end) Pstart(20px) Pend(6px) Fz(s)\" data-reactid=\"171\"><canvas data-reactid=\"172\" style=\"width:140px;height:23px;\"></canvas></td></tr><tr class=\"simpTblRow Bgc($extraLightBlue):h BdB Bdbc($finLightGrayAlt) Bdbc($tableBorderBlue):h H(32px) Bgc(white)\" data-reactid=\"173\"><td aria-label=\"Symbol\" class=\"Va(m) Ta(start) Pstart(6px) Pend(10px) Miw(90px) Start(0) Pend(10px) simpTblRow:h_Bgc($extraLightBlue) Pos(st) Bgc(white) Bgc(white) Ta(start)! Fz(s)\" data-reactid=\"174\"><label class=\"Ta(c) Pos(r) Va(tb) Pend(5px) D(n)--print\" data-reactid=\"175\"><input class=\"Pos(a) V(h)\" data-reactid=\"176\" type=\"checkbox\"/><svg class=\"Va(m)! H(16px) W(16px) Stk($plusGray)! Fill($plusGray)! Cur(p)\" data-icon=\"checkbox-unchecked\" data-reactid=\"177\" height=\"16\" style=\"fill:#000;stroke:#000;stroke-width:0;vertical-align:bottom;\" viewbox=\"0 0 24 24\" width=\"16\"><path d=\"M3 3h18v18H3V3zm19-2H2c-.553 0-1 .448-1 1v20c0 .552.447 1 1 1h20c.552 0 1-.448 1-1V2c0-.552-.448-1-1-1z\" data-reactid=\"178\"></path></svg></label><a class=\"Fw(600)\" data-reactid=\"179\" href=\"/quote/AGOZX?p=AGOZX\" title=\"Alger Small Cap Focus Fund Class Z\">AGOZX</a><div class=\"W(3px) Pos(a) Start(100%) T(0) H(100%) Bg($pfColumnFakeShadowGradient) Pe(n) Pend(5px)\" data-reactid=\"180\"></div></td><td aria-label=\"Name\" class=\"Va(m) Ta(start) Px(10px) Fz(s)\" data-reactid=\"181\"><!-- react-text: 182 -->Alger Small Cap Focus Fund Class Z<!-- /react-text --></td><td aria-label=\"Change\" class=\"Va(m) Ta(end) Pstart(20px) Fw(600) Fz(s)\" data-reactid=\"183\"><span class=\"Trsdu(0.3s) Fw(600) C($dataGreen)\" data-reactid=\"184\">+0.17</span></td><td aria-label=\"% Change\" class=\"Va(m) Ta(end) Pstart(20px) Fw(600) Fz(s)\" data-reactid=\"185\"><span class=\"Trsdu(0.3s) Fw(600) C($dataGreen)\" data-reactid=\"186\">+0.81%</span></td><td aria-label=\"Price (Intraday)\" class=\"Va(m) Ta(end) Pstart(20px) Fz(s)\" data-reactid=\"187\"><!-- react-text: 188 -->21.07<!-- /react-text --></td><td aria-label=\"50 Day Average\" class=\"Va(m) Ta(end) Pstart(20px) Fz(s)\" data-reactid=\"189\"><!-- react-text: 190 -->20.92<!-- /react-text --></td><td aria-label=\"200 Day Average\" class=\"Va(m) Ta(end) Pstart(20px) Fz(s)\" data-reactid=\"191\"><!-- react-text: 192 -->21.86<!-- /react-text --></td><td class=\"Va(m) Ta(end) Pstart(20px) Pend(10px) W(120px) Fz(s)\" data-reactid=\"193\"><!-- react-text: 194 -->-11.04%<!-- /react-text --></td><td class=\"Va(m) Ta(end) Pstart(20px) Fz(s)\" data-reactid=\"195\"><!-- react-text: 196 -->17.66%<!-- /react-text --></td><td aria-label=\"52 Week Range\" class=\"Va(m) Ta(end) Pstart(20px) Pend(6px) Fz(s)\" data-reactid=\"197\"><canvas data-reactid=\"198\" style=\"width:140px;height:23px;\"></canvas></td></tr><tr class=\"simpTblRow Bgc($extraLightBlue):h BdB Bdbc($finLightGrayAlt) Bdbc($tableBorderBlue):h H(32px) Bgc($altRowColor)\" data-reactid=\"199\"><td aria-label=\"Symbol\" class=\"Va(m) Ta(start) Pstart(6px) Pend(10px) Miw(90px) Start(0) Pend(10px) simpTblRow:h_Bgc($extraLightBlue) Pos(st) Bgc(white) Bgc($altRowColor) Ta(start)! Fz(s)\" data-reactid=\"200\"><label class=\"Ta(c) Pos(r) Va(tb) Pend(5px) D(n)--print\" data-reactid=\"201\"><input class=\"Pos(a) V(h)\" data-reactid=\"202\" type=\"checkbox\"/><svg class=\"Va(m)! H(16px) W(16px) Stk($plusGray)! Fill($plusGray)! Cur(p)\" data-icon=\"checkbox-unchecked\" data-reactid=\"203\" height=\"16\" style=\"fill:#000;stroke:#000;stroke-width:0;vertical-align:bottom;\" viewbox=\"0 0 24 24\" width=\"16\"><path d=\"M3 3h18v18H3V3zm19-2H2c-.553 0-1 .448-1 1v20c0 .552.447 1 1 1h20c.552 0 1-.448 1-1V2c0-.552-.448-1-1-1z\" data-reactid=\"204\"></path></svg></label><a class=\"Fw(600)\" data-reactid=\"205\" href=\"/quote/RYOIX?p=RYOIX\" title=\"Rydex Biotechnology Fund Class Investor\">RYOIX</a><div class=\"W(3px) Pos(a) Start(100%) T(0) H(100%) Bg($pfColumnFakeShadowGradient) Pe(n) Pend(5px)\" data-reactid=\"206\"></div></td><td aria-label=\"Name\" class=\"Va(m) Ta(start) Px(10px) Fz(s)\" data-reactid=\"207\"><!-- react-text: 208 -->Rydex Biotechnology Fund Class Investor<!-- /react-text --></td><td aria-label=\"Change\" class=\"Va(m) Ta(end) Pstart(20px) Fw(600) Fz(s)\" data-reactid=\"209\"><span class=\"Trsdu(0.3s) Fw(600) C($dataGreen)\" data-reactid=\"210\">+0.64</span></td><td aria-label=\"% Change\" class=\"Va(m) Ta(end) Pstart(20px) Fw(600) Fz(s)\" data-reactid=\"211\"><span class=\"Trsdu(0.3s) Fw(600) C($dataGreen)\" data-reactid=\"212\">+0.80%</span></td><td aria-label=\"Price (Intraday)\" class=\"Va(m) Ta(end) Pstart(20px) Fz(s)\" data-reactid=\"213\"><!-- react-text: 214 -->80.16<!-- /react-text --></td><td aria-label=\"50 Day Average\" class=\"Va(m) Ta(end) Pstart(20px) Fz(s)\" data-reactid=\"215\"><!-- react-text: 216 -->75.91<!-- /react-text --></td><td aria-label=\"200 Day Average\" class=\"Va(m) Ta(end) Pstart(20px) Fz(s)\" data-reactid=\"217\"><!-- react-text: 218 -->76.53<!-- /react-text --></td><td class=\"Va(m) Ta(end) Pstart(20px) Pend(10px) W(120px) Fz(s)\" data-reactid=\"219\"><!-- react-text: 220 -->1.16%<!-- /react-text --></td><td class=\"Va(m) Ta(end) Pstart(20px) Fz(s)\" data-reactid=\"221\"><!-- react-text: 222 -->11.54%<!-- /react-text --></td><td aria-label=\"52 Week Range\" class=\"Va(m) Ta(end) Pstart(20px) Pend(6px) Fz(s)\" data-reactid=\"223\"><canvas data-reactid=\"224\" style=\"width:140px;height:23px;\"></canvas></td></tr><tr class=\"simpTblRow Bgc($extraLightBlue):h BdB Bdbc($finLightGrayAlt) Bdbc($tableBorderBlue):h H(32px) Bgc(white)\" data-reactid=\"225\"><td aria-label=\"Symbol\" class=\"Va(m) Ta(start) Pstart(6px) Pend(10px) Miw(90px) Start(0) Pend(10px) simpTblRow:h_Bgc($extraLightBlue) Pos(st) Bgc(white) Bgc(white) Ta(start)! Fz(s)\" data-reactid=\"226\"><label class=\"Ta(c) Pos(r) Va(tb) Pend(5px) D(n)--print\" data-reactid=\"227\"><input class=\"Pos(a) V(h)\" data-reactid=\"228\" type=\"checkbox\"/><svg class=\"Va(m)! H(16px) W(16px) Stk($plusGray)! Fill($plusGray)! Cur(p)\" data-icon=\"checkbox-unchecked\" data-reactid=\"229\" height=\"16\" style=\"fill:#000;stroke:#000;stroke-width:0;vertical-align:bottom;\" viewbox=\"0 0 24 24\" width=\"16\"><path d=\"M3 3h18v18H3V3zm19-2H2c-.553 0-1 .448-1 1v20c0 .552.447 1 1 1h20c.552 0 1-.448 1-1V2c0-.552-.448-1-1-1z\" data-reactid=\"230\"></path></svg></label><a class=\"Fw(600)\" data-reactid=\"231\" href=\"/quote/FJSCX?p=FJSCX\" title=\"Fidelity Japan Smaller Companies Fund\">FJSCX</a><div class=\"W(3px) Pos(a) Start(100%) T(0) H(100%) Bg($pfColumnFakeShadowGradient) Pe(n) Pend(5px)\" data-reactid=\"232\"></div></td><td aria-label=\"Name\" class=\"Va(m) Ta(start) Px(10px) Fz(s)\" data-reactid=\"233\"><!-- react-text: 234 -->Fidelity Japan Smaller Companies Fund<!-- /react-text --></td><td aria-label=\"Change\" class=\"Va(m) Ta(end) Pstart(20px) Fw(600) Fz(s)\" data-reactid=\"235\"><span class=\"Trsdu(0.3s) Fw(600) C($dataGreen)\" data-reactid=\"236\">+0.14</span></td><td aria-label=\"% Change\" class=\"Va(m) Ta(end) Pstart(20px) Fw(600) Fz(s)\" data-reactid=\"237\"><span class=\"Trsdu(0.3s) Fw(600) C($dataGreen)\" data-reactid=\"238\">+0.78%</span></td><td aria-label=\"Price (Intraday)\" class=\"Va(m) Ta(end) Pstart(20px) Fz(s)\" data-reactid=\"239\"><!-- react-text: 240 -->17.86<!-- /react-text --></td><td aria-label=\"50 Day Average\" class=\"Va(m) Ta(end) Pstart(20px) Fz(s)\" data-reactid=\"241\"><!-- react-text: 242 -->17.31<!-- /react-text --></td><td aria-label=\"200 Day Average\" class=\"Va(m) Ta(end) Pstart(20px) Fz(s)\" data-reactid=\"243\"><!-- react-text: 244 -->16.63<!-- /react-text --></td><td class=\"Va(m) Ta(end) Pstart(20px) Pend(10px) W(120px) Fz(s)\" data-reactid=\"245\"><!-- react-text: 246 -->6.60%<!-- /react-text --></td><td class=\"Va(m) Ta(end) Pstart(20px) Fz(s)\" data-reactid=\"247\"><!-- react-text: 248 -->16.25%<!-- /react-text --></td><td aria-label=\"52 Week Range\" class=\"Va(m) Ta(end) Pstart(20px) Pend(6px) Fz(s)\" data-reactid=\"249\"><canvas data-reactid=\"250\" style=\"width:140px;height:23px;\"></canvas></td></tr><tr class=\"simpTblRow Bgc($extraLightBlue):h BdB Bdbc($finLightGrayAlt) Bdbc($tableBorderBlue):h H(32px) Bgc($altRowColor)\" data-reactid=\"251\"><td aria-label=\"Symbol\" class=\"Va(m) Ta(start) Pstart(6px) Pend(10px) Miw(90px) Start(0) Pend(10px) simpTblRow:h_Bgc($extraLightBlue) Pos(st) Bgc(white) Bgc($altRowColor) Ta(start)! Fz(s)\" data-reactid=\"252\"><label class=\"Ta(c) Pos(r) Va(tb) Pend(5px) D(n)--print\" data-reactid=\"253\"><input class=\"Pos(a) V(h)\" data-reactid=\"254\" type=\"checkbox\"/><svg class=\"Va(m)! H(16px) W(16px) Stk($plusGray)! Fill($plusGray)! Cur(p)\" data-icon=\"checkbox-unchecked\" data-reactid=\"255\" height=\"16\" style=\"fill:#000;stroke:#000;stroke-width:0;vertical-align:bottom;\" viewbox=\"0 0 24 24\" width=\"16\"><path d=\"M3 3h18v18H3V3zm19-2H2c-.553 0-1 .448-1 1v20c0 .552.447 1 1 1h20c.552 0 1-.448 1-1V2c0-.552-.448-1-1-1z\" data-reactid=\"256\"></path></svg></label><a class=\"Fw(600)\" data-reactid=\"257\" href=\"/quote/FSMEX?p=FSMEX\" title=\"Fidelity Select Medical Technology and Devices Portfolio\">FSMEX</a><div class=\"W(3px) Pos(a) Start(100%) T(0) H(100%) Bg($pfColumnFakeShadowGradient) Pe(n) Pend(5px)\" data-reactid=\"258\"></div></td><td aria-label=\"Name\" class=\"Va(m) Ta(start) Px(10px) Fz(s)\" data-reactid=\"259\"><!-- react-text: 260 -->Fidelity Select Medical Technology and Devices Portfolio<!-- /react-text --></td><td aria-label=\"Change\" class=\"Va(m) Ta(end) Pstart(20px) Fw(600) Fz(s)\" data-reactid=\"261\"><span class=\"Trsdu(0.3s) Fw(600) C($dataGreen)\" data-reactid=\"262\">+0.44</span></td><td aria-label=\"% Change\" class=\"Va(m) Ta(end) Pstart(20px) Fw(600) Fz(s)\" data-reactid=\"263\"><span class=\"Trsdu(0.3s) Fw(600) C($dataGreen)\" data-reactid=\"264\">+0.78%</span></td><td aria-label=\"Price (Intraday)\" class=\"Va(m) Ta(end) Pstart(20px) Fz(s)\" data-reactid=\"265\"><!-- react-text: 266 -->56.22<!-- /react-text --></td><td aria-label=\"50 Day Average\" class=\"Va(m) Ta(end) Pstart(20px) Fz(s)\" data-reactid=\"267\"><!-- react-text: 268 -->55.09<!-- /react-text --></td><td aria-label=\"200 Day Average\" class=\"Va(m) Ta(end) Pstart(20px) Fz(s)\" data-reactid=\"269\"><!-- react-text: 270 -->54.87<!-- /react-text --></td><td class=\"Va(m) Ta(end) Pstart(20px) Pend(10px) W(120px) Fz(s)\" data-reactid=\"271\"><!-- react-text: 272 -->-0.57%<!-- /react-text --></td><td class=\"Va(m) Ta(end) Pstart(20px) Fz(s)\" data-reactid=\"273\"><!-- react-text: 274 -->19.06%<!-- /react-text --></td><td aria-label=\"52 Week Range\" class=\"Va(m) Ta(end) Pstart(20px) Pend(6px) Fz(s)\" data-reactid=\"275\"><canvas data-reactid=\"276\" style=\"width:140px;height:23px;\"></canvas></td></tr><tr class=\"simpTblRow Bgc($extraLightBlue):h BdB Bdbc($finLightGrayAlt) Bdbc($tableBorderBlue):h H(32px) Bgc(white)\" data-reactid=\"277\"><td aria-label=\"Symbol\" class=\"Va(m) Ta(start) Pstart(6px) Pend(10px) Miw(90px) Start(0) Pend(10px) simpTblRow:h_Bgc($extraLightBlue) Pos(st) Bgc(white) Bgc(white) Ta(start)! Fz(s)\" data-reactid=\"278\"><label class=\"Ta(c) Pos(r) Va(tb) Pend(5px) D(n)--print\" data-reactid=\"279\"><input class=\"Pos(a) V(h)\" data-reactid=\"280\" type=\"checkbox\"/><svg class=\"Va(m)! H(16px) W(16px) Stk($plusGray)! Fill($plusGray)! Cur(p)\" data-icon=\"checkbox-unchecked\" data-reactid=\"281\" height=\"16\" style=\"fill:#000;stroke:#000;stroke-width:0;vertical-align:bottom;\" viewbox=\"0 0 24 24\" width=\"16\"><path d=\"M3 3h18v18H3V3zm19-2H2c-.553 0-1 .448-1 1v20c0 .552.447 1 1 1h20c.552 0 1-.448 1-1V2c0-.552-.448-1-1-1z\" data-reactid=\"282\"></path></svg></label><a class=\"Fw(600)\" data-reactid=\"283\" href=\"/quote/THORX?p=THORX\" title=\"Thornburg Global Opportunities Fund Class R3\">THORX</a><div class=\"W(3px) Pos(a) Start(100%) T(0) H(100%) Bg($pfColumnFakeShadowGradient) Pe(n) Pend(5px)\" data-reactid=\"284\"></div></td><td aria-label=\"Name\" class=\"Va(m) Ta(start) Px(10px) Fz(s)\" data-reactid=\"285\"><!-- react-text: 286 -->Thornburg Global Opportunities Fund Class R3<!-- /react-text --></td><td aria-label=\"Change\" class=\"Va(m) Ta(end) Pstart(20px) Fw(600) Fz(s)\" data-reactid=\"287\"><span class=\"Trsdu(0.3s) Fw(600) C($dataGreen)\" data-reactid=\"288\">+0.23</span></td><td aria-label=\"% Change\" class=\"Va(m) Ta(end) Pstart(20px) Fw(600) Fz(s)\" data-reactid=\"289\"><span class=\"Trsdu(0.3s) Fw(600) C($dataGreen)\" data-reactid=\"290\">+0.78%</span></td><td aria-label=\"Price (Intraday)\" class=\"Va(m) Ta(end) Pstart(20px) Fz(s)\" data-reactid=\"291\"><!-- react-text: 292 -->29.63<!-- /react-text --></td><td aria-label=\"50 Day Average\" class=\"Va(m) Ta(end) Pstart(20px) Fz(s)\" data-reactid=\"293\"><!-- react-text: 294 -->28.06<!-- /react-text --></td><td aria-label=\"200 Day Average\" class=\"Va(m) Ta(end) Pstart(20px) Fz(s)\" data-reactid=\"295\"><!-- react-text: 296 -->27.41<!-- /react-text --></td><td class=\"Va(m) Ta(end) Pstart(20px) Pend(10px) W(120px) Fz(s)\" data-reactid=\"297\"><!-- react-text: 298 -->2.74%<!-- /react-text --></td><td class=\"Va(m) Ta(end) Pstart(20px) Fz(s)\" data-reactid=\"299\"><!-- react-text: 300 -->16.96%<!-- /react-text --></td><td aria-label=\"52 Week Range\" class=\"Va(m) Ta(end) Pstart(20px) Pend(6px) Fz(s)\" data-reactid=\"301\"><canvas data-reactid=\"302\" style=\"width:140px;height:23px;\"></canvas></td></tr><tr class=\"simpTblRow Bgc($extraLightBlue):h BdB Bdbc($finLightGrayAlt) Bdbc($tableBorderBlue):h H(32px) Bgc($altRowColor)\" data-reactid=\"303\"><td aria-label=\"Symbol\" class=\"Va(m) Ta(start) Pstart(6px) Pend(10px) Miw(90px) Start(0) Pend(10px) simpTblRow:h_Bgc($extraLightBlue) Pos(st) Bgc(white) Bgc($altRowColor) Ta(start)! Fz(s)\" data-reactid=\"304\"><label class=\"Ta(c) Pos(r) Va(tb) Pend(5px) D(n)--print\" data-reactid=\"305\"><input class=\"Pos(a) V(h)\" data-reactid=\"306\" type=\"checkbox\"/><svg class=\"Va(m)! H(16px) W(16px) Stk($plusGray)! Fill($plusGray)! Cur(p)\" data-icon=\"checkbox-unchecked\" data-reactid=\"307\" height=\"16\" style=\"fill:#000;stroke:#000;stroke-width:0;vertical-align:bottom;\" viewbox=\"0 0 24 24\" width=\"16\"><path d=\"M3 3h18v18H3V3zm19-2H2c-.553 0-1 .448-1 1v20c0 .552.447 1 1 1h20c.552 0 1-.448 1-1V2c0-.552-.448-1-1-1z\" data-reactid=\"308\"></path></svg></label><a class=\"Fw(600)\" data-reactid=\"309\" href=\"/quote/SLMCX?p=SLMCX\" title=\"Columbia Seligman Communications and Information Fund Class A\">SLMCX</a><div class=\"W(3px) Pos(a) Start(100%) T(0) H(100%) Bg($pfColumnFakeShadowGradient) Pe(n) Pend(5px)\" data-reactid=\"310\"></div></td><td aria-label=\"Name\" class=\"Va(m) Ta(start) Px(10px) Fz(s)\" data-reactid=\"311\"><!-- react-text: 312 -->Columbia Seligman Communications and Information Fund Class A<!-- /react-text --></td><td aria-label=\"Change\" class=\"Va(m) Ta(end) Pstart(20px) Fw(600) Fz(s)\" data-reactid=\"313\"><span class=\"Trsdu(0.3s) Fw(600) C($dataGreen)\" data-reactid=\"314\">+0.65</span></td><td aria-label=\"% Change\" class=\"Va(m) Ta(end) Pstart(20px) Fw(600) Fz(s)\" data-reactid=\"315\"><span class=\"Trsdu(0.3s) Fw(600) C($dataGreen)\" data-reactid=\"316\">+0.77%</span></td><td aria-label=\"Price (Intraday)\" class=\"Va(m) Ta(end) Pstart(20px) Fz(s)\" data-reactid=\"317\"><!-- react-text: 318 -->84.06<!-- /react-text --></td><td aria-label=\"50 Day Average\" class=\"Va(m) Ta(end) Pstart(20px) Fz(s)\" data-reactid=\"319\"><!-- react-text: 320 -->79.49<!-- /react-text --></td><td aria-label=\"200 Day Average\" class=\"Va(m) Ta(end) Pstart(20px) Fz(s)\" data-reactid=\"321\"><!-- react-text: 322 -->75.74<!-- /react-text --></td><td class=\"Va(m) Ta(end) Pstart(20px) Pend(10px) W(120px) Fz(s)\" data-reactid=\"323\"><!-- react-text: 324 -->3.67%<!-- /react-text --></td><td class=\"Va(m) Ta(end) Pstart(20px) Fz(s)\" data-reactid=\"325\"><!-- react-text: 326 -->38.64%<!-- /react-text --></td><td aria-label=\"52 Week Range\" class=\"Va(m) Ta(end) Pstart(20px) Pend(6px) Fz(s)\" data-reactid=\"327\"><canvas data-reactid=\"328\" style=\"width:140px;height:23px;\"></canvas></td></tr><tr class=\"simpTblRow Bgc($extraLightBlue):h BdB Bdbc($finLightGrayAlt) Bdbc($tableBorderBlue):h H(32px) Bgc(white)\" data-reactid=\"329\"><td aria-label=\"Symbol\" class=\"Va(m) Ta(start) Pstart(6px) Pend(10px) Miw(90px) Start(0) Pend(10px) simpTblRow:h_Bgc($extraLightBlue) Pos(st) Bgc(white) Bgc(white) Ta(start)! Fz(s)\" data-reactid=\"330\"><label class=\"Ta(c) Pos(r) Va(tb) Pend(5px) D(n)--print\" data-reactid=\"331\"><input class=\"Pos(a) V(h)\" data-reactid=\"332\" type=\"checkbox\"/><svg class=\"Va(m)! H(16px) W(16px) Stk($plusGray)! Fill($plusGray)! Cur(p)\" data-icon=\"checkbox-unchecked\" data-reactid=\"333\" height=\"16\" style=\"fill:#000;stroke:#000;stroke-width:0;vertical-align:bottom;\" viewbox=\"0 0 24 24\" width=\"16\"><path d=\"M3 3h18v18H3V3zm19-2H2c-.553 0-1 .448-1 1v20c0 .552.447 1 1 1h20c.552 0 1-.448 1-1V2c0-.552-.448-1-1-1z\" data-reactid=\"334\"></path></svg></label><a class=\"Fw(600)\" data-reactid=\"335\" href=\"/quote/SCIOX?p=SCIOX\" title=\"Columbia Seligman Communications and Information Fund Advisor Class\">SCIOX</a><div class=\"W(3px) Pos(a) Start(100%) T(0) H(100%) Bg($pfColumnFakeShadowGradient) Pe(n) Pend(5px)\" data-reactid=\"336\"></div></td><td aria-label=\"Name\" class=\"Va(m) Ta(start) Px(10px) Fz(s)\" data-reactid=\"337\"><!-- react-text: 338 -->Columbia Seligman Communications and Information Fund Advisor Class<!-- /react-text --></td><td aria-label=\"Change\" class=\"Va(m) Ta(end) Pstart(20px) Fw(600) Fz(s)\" data-reactid=\"339\"><span class=\"Trsdu(0.3s) Fw(600) C($dataGreen)\" data-reactid=\"340\">+0.63</span></td><td aria-label=\"% Change\" class=\"Va(m) Ta(end) Pstart(20px) Fw(600) Fz(s)\" data-reactid=\"341\"><span class=\"Trsdu(0.3s) Fw(600) C($dataGreen)\" data-reactid=\"342\">+0.77%</span></td><td aria-label=\"Price (Intraday)\" class=\"Va(m) Ta(end) Pstart(20px) Fz(s)\" data-reactid=\"343\"><!-- react-text: 344 -->81.49<!-- /react-text --></td><td aria-label=\"50 Day Average\" class=\"Va(m) Ta(end) Pstart(20px) Fz(s)\" data-reactid=\"345\"><!-- react-text: 346 -->77.04<!-- /react-text --></td><td aria-label=\"200 Day Average\" class=\"Va(m) Ta(end) Pstart(20px) Fz(s)\" data-reactid=\"347\"><!-- react-text: 348 -->73.37<!-- /react-text --></td><td class=\"Va(m) Ta(end) Pstart(20px) Pend(10px) W(120px) Fz(s)\" data-reactid=\"349\"><!-- react-text: 350 -->3.73%<!-- /react-text --></td><td class=\"Va(m) Ta(end) Pstart(20px) Fz(s)\" data-reactid=\"351\"><!-- react-text: 352 -->38.94%<!-- /react-text --></td><td aria-label=\"52 Week Range\" class=\"Va(m) Ta(end) Pstart(20px) Pend(6px) Fz(s)\" data-reactid=\"353\"><canvas data-reactid=\"354\" style=\"width:140px;height:23px;\"></canvas></td></tr><tr class=\"simpTblRow Bgc($extraLightBlue):h BdB Bdbc($finLightGrayAlt) Bdbc($tableBorderBlue):h H(32px) Bgc($altRowColor)\" data-reactid=\"355\"><td aria-label=\"Symbol\" class=\"Va(m) Ta(start) Pstart(6px) Pend(10px) Miw(90px) Start(0) Pend(10px) simpTblRow:h_Bgc($extraLightBlue) Pos(st) Bgc(white) Bgc($altRowColor) Ta(start)! Fz(s)\" data-reactid=\"356\"><label class=\"Ta(c) Pos(r) Va(tb) Pend(5px) D(n)--print\" data-reactid=\"357\"><input class=\"Pos(a) V(h)\" data-reactid=\"358\" type=\"checkbox\"/><svg class=\"Va(m)! H(16px) W(16px) Stk($plusGray)! Fill($plusGray)! Cur(p)\" data-icon=\"checkbox-unchecked\" data-reactid=\"359\" height=\"16\" style=\"fill:#000;stroke:#000;stroke-width:0;vertical-align:bottom;\" viewbox=\"0 0 24 24\" width=\"16\"><path d=\"M3 3h18v18H3V3zm19-2H2c-.553 0-1 .448-1 1v20c0 .552.447 1 1 1h20c.552 0 1-.448 1-1V2c0-.552-.448-1-1-1z\" data-reactid=\"360\"></path></svg></label><a class=\"Fw(600)\" data-reactid=\"361\" href=\"/quote/SCMIX?p=SCMIX\" title=\"Columbia Seligman Communications and Information Fund Institutional 2 Class\">SCMIX</a><div class=\"W(3px) Pos(a) Start(100%) T(0) H(100%) Bg($pfColumnFakeShadowGradient) Pe(n) Pend(5px)\" data-reactid=\"362\"></div></td><td aria-label=\"Name\" class=\"Va(m) Ta(start) Px(10px) Fz(s)\" data-reactid=\"363\"><!-- react-text: 364 -->Columbia Seligman Communications and Information Fund Institutional 2 Class<!-- /react-text --></td><td aria-label=\"Change\" class=\"Va(m) Ta(end) Pstart(20px) Fw(600) Fz(s)\" data-reactid=\"365\"><span class=\"Trsdu(0.3s) Fw(600) C($dataGreen)\" data-reactid=\"366\">+0.72</span></td><td aria-label=\"% Change\" class=\"Va(m) Ta(end) Pstart(20px) Fw(600) Fz(s)\" data-reactid=\"367\"><span class=\"Trsdu(0.3s) Fw(600) C($dataGreen)\" data-reactid=\"368\">+0.77%</span></td><td aria-label=\"Price (Intraday)\" class=\"Va(m) Ta(end) Pstart(20px) Fz(s)\" data-reactid=\"369\"><!-- react-text: 370 -->93.15<!-- /react-text --></td><td aria-label=\"50 Day Average\" class=\"Va(m) Ta(end) Pstart(20px) Fz(s)\" data-reactid=\"371\"><!-- react-text: 372 -->88.07<!-- /react-text --></td><td aria-label=\"200 Day Average\" class=\"Va(m) Ta(end) Pstart(20px) Fz(s)\" data-reactid=\"373\"><!-- react-text: 374 -->83.87<!-- /react-text --></td><td class=\"Va(m) Ta(end) Pstart(20px) Pend(10px) W(120px) Fz(s)\" data-reactid=\"375\"><!-- react-text: 376 -->3.75%<!-- /react-text --></td><td class=\"Va(m) Ta(end) Pstart(20px) Fz(s)\" data-reactid=\"377\"><!-- react-text: 378 -->39.00%<!-- /react-text --></td><td aria-label=\"52 Week Range\" class=\"Va(m) Ta(end) Pstart(20px) Pend(6px) Fz(s)\" data-reactid=\"379\"><canvas data-reactid=\"380\" style=\"width:140px;height:23px;\"></canvas></td></tr><tr class=\"simpTblRow Bgc($extraLightBlue):h BdB Bdbc($finLightGrayAlt) Bdbc($tableBorderBlue):h H(32px) Bgc(white)\" data-reactid=\"381\"><td aria-label=\"Symbol\" class=\"Va(m) Ta(start) Pstart(6px) Pend(10px) Miw(90px) Start(0) Pend(10px) simpTblRow:h_Bgc($extraLightBlue) Pos(st) Bgc(white) Bgc(white) Ta(start)! Fz(s)\" data-reactid=\"382\"><label class=\"Ta(c) Pos(r) Va(tb) Pend(5px) D(n)--print\" data-reactid=\"383\"><input class=\"Pos(a) V(h)\" data-reactid=\"384\" type=\"checkbox\"/><svg class=\"Va(m)! H(16px) W(16px) Stk($plusGray)! Fill($plusGray)! Cur(p)\" data-icon=\"checkbox-unchecked\" data-reactid=\"385\" height=\"16\" style=\"fill:#000;stroke:#000;stroke-width:0;vertical-align:bottom;\" viewbox=\"0 0 24 24\" width=\"16\"><path d=\"M3 3h18v18H3V3zm19-2H2c-.553 0-1 .448-1 1v20c0 .552.447 1 1 1h20c.552 0 1-.448 1-1V2c0-.552-.448-1-1-1z\" data-reactid=\"386\"></path></svg></label><a class=\"Fw(600)\" data-reactid=\"387\" href=\"/quote/SCIRX?p=SCIRX\" title=\"Columbia Seligman Communications and Information Fund Class R\">SCIRX</a><div class=\"W(3px) Pos(a) Start(100%) T(0) H(100%) Bg($pfColumnFakeShadowGradient) Pe(n) Pend(5px)\" data-reactid=\"388\"></div></td><td aria-label=\"Name\" class=\"Va(m) Ta(start) Px(10px) Fz(s)\" data-reactid=\"389\"><!-- react-text: 390 -->Columbia Seligman Communications and Information Fund Class R<!-- /react-text --></td><td aria-label=\"Change\" class=\"Va(m) Ta(end) Pstart(20px) Fw(600) Fz(s)\" data-reactid=\"391\"><span class=\"Trsdu(0.3s) Fw(600) C($dataGreen)\" data-reactid=\"392\">+0.61</span></td><td aria-label=\"% Change\" class=\"Va(m) Ta(end) Pstart(20px) Fw(600) Fz(s)\" data-reactid=\"393\"><span class=\"Trsdu(0.3s) Fw(600) C($dataGreen)\" data-reactid=\"394\">+0.77%</span></td><td aria-label=\"Price (Intraday)\" class=\"Va(m) Ta(end) Pstart(20px) Fz(s)\" data-reactid=\"395\"><!-- react-text: 396 -->79.31<!-- /react-text --></td><td aria-label=\"50 Day Average\" class=\"Va(m) Ta(end) Pstart(20px) Fz(s)\" data-reactid=\"397\"><!-- react-text: 398 -->75.01<!-- /react-text --></td><td aria-label=\"200 Day Average\" class=\"Va(m) Ta(end) Pstart(20px) Fz(s)\" data-reactid=\"399\"><!-- react-text: 400 -->71.51<!-- /react-text --></td><td class=\"Va(m) Ta(end) Pstart(20px) Pend(10px) W(120px) Fz(s)\" data-reactid=\"401\"><!-- react-text: 402 -->3.60%<!-- /react-text --></td><td class=\"Va(m) Ta(end) Pstart(20px) Fz(s)\" data-reactid=\"403\"><!-- react-text: 404 -->38.37%<!-- /react-text --></td><td aria-label=\"52 Week Range\" class=\"Va(m) Ta(end) Pstart(20px) Pend(6px) Fz(s)\" data-reactid=\"405\"><canvas data-reactid=\"406\" style=\"width:140px;height:23px;\"></canvas></td></tr><tr class=\"simpTblRow Bgc($extraLightBlue):h BdB Bdbc($finLightGrayAlt) Bdbc($tableBorderBlue):h H(32px) Bgc($altRowColor)\" data-reactid=\"407\"><td aria-label=\"Symbol\" class=\"Va(m) Ta(start) Pstart(6px) Pend(10px) Miw(90px) Start(0) Pend(10px) simpTblRow:h_Bgc($extraLightBlue) Pos(st) Bgc(white) Bgc($altRowColor) Ta(start)! Fz(s)\" data-reactid=\"408\"><label class=\"Ta(c) Pos(r) Va(tb) Pend(5px) D(n)--print\" data-reactid=\"409\"><input class=\"Pos(a) V(h)\" data-reactid=\"410\" type=\"checkbox\"/><svg class=\"Va(m)! H(16px) W(16px) Stk($plusGray)! Fill($plusGray)! Cur(p)\" data-icon=\"checkbox-unchecked\" data-reactid=\"411\" height=\"16\" style=\"fill:#000;stroke:#000;stroke-width:0;vertical-align:bottom;\" viewbox=\"0 0 24 24\" width=\"16\"><path d=\"M3 3h18v18H3V3zm19-2H2c-.553 0-1 .448-1 1v20c0 .552.447 1 1 1h20c.552 0 1-.448 1-1V2c0-.552-.448-1-1-1z\" data-reactid=\"412\"></path></svg></label><a class=\"Fw(600)\" data-reactid=\"413\" href=\"/quote/CCIZX?p=CCIZX\" title=\"Columbia Seligman Communications and Information Fund Institutional Class\">CCIZX</a><div class=\"W(3px) Pos(a) Start(100%) T(0) H(100%) Bg($pfColumnFakeShadowGradient) Pe(n) Pend(5px)\" data-reactid=\"414\"></div></td><td aria-label=\"Name\" class=\"Va(m) Ta(start) Px(10px) Fz(s)\" data-reactid=\"415\"><!-- react-text: 416 -->Columbia Seligman Communications and Information Fund Institutional Class<!-- /react-text --></td><td aria-label=\"Change\" class=\"Va(m) Ta(end) Pstart(20px) Fw(600) Fz(s)\" data-reactid=\"417\"><span class=\"Trsdu(0.3s) Fw(600) C($dataGreen)\" data-reactid=\"418\">+0.71</span></td><td aria-label=\"% Change\" class=\"Va(m) Ta(end) Pstart(20px) Fw(600) Fz(s)\" data-reactid=\"419\"><span class=\"Trsdu(0.3s) Fw(600) C($dataGreen)\" data-reactid=\"420\">+0.77%</span></td><td aria-label=\"Price (Intraday)\" class=\"Va(m) Ta(end) Pstart(20px) Fz(s)\" data-reactid=\"421\"><!-- react-text: 422 -->92.68<!-- /react-text --></td><td aria-label=\"50 Day Average\" class=\"Va(m) Ta(end) Pstart(20px) Fz(s)\" data-reactid=\"423\"><!-- react-text: 424 -->87.62<!-- /react-text --></td><td aria-label=\"200 Day Average\" class=\"Va(m) Ta(end) Pstart(20px) Fz(s)\" data-reactid=\"425\"><!-- react-text: 426 -->83.45<!-- /react-text --></td><td class=\"Va(m) Ta(end) Pstart(20px) Pend(10px) W(120px) Fz(s)\" data-reactid=\"427\"><!-- react-text: 428 -->3.74%<!-- /react-text --></td><td class=\"Va(m) Ta(end) Pstart(20px) Fz(s)\" data-reactid=\"429\"><!-- react-text: 430 -->38.93%<!-- /react-text --></td><td aria-label=\"52 Week Range\" class=\"Va(m) Ta(end) Pstart(20px) Pend(6px) Fz(s)\" data-reactid=\"431\"><canvas data-reactid=\"432\" style=\"width:140px;height:23px;\"></canvas></td></tr><tr class=\"simpTblRow Bgc($extraLightBlue):h BdB Bdbc($finLightGrayAlt) Bdbc($tableBorderBlue):h H(32px) Bgc(white)\" data-reactid=\"433\"><td aria-label=\"Symbol\" class=\"Va(m) Ta(start) Pstart(6px) Pend(10px) Miw(90px) Start(0) Pend(10px) simpTblRow:h_Bgc($extraLightBlue) Pos(st) Bgc(white) Bgc(white) Ta(start)! Fz(s)\" data-reactid=\"434\"><label class=\"Ta(c) Pos(r) Va(tb) Pend(5px) D(n)--print\" data-reactid=\"435\"><input class=\"Pos(a) V(h)\" data-reactid=\"436\" type=\"checkbox\"/><svg class=\"Va(m)! H(16px) W(16px) Stk($plusGray)! Fill($plusGray)! Cur(p)\" data-icon=\"checkbox-unchecked\" data-reactid=\"437\" height=\"16\" style=\"fill:#000;stroke:#000;stroke-width:0;vertical-align:bottom;\" viewbox=\"0 0 24 24\" width=\"16\"><path d=\"M3 3h18v18H3V3zm19-2H2c-.553 0-1 .448-1 1v20c0 .552.447 1 1 1h20c.552 0 1-.448 1-1V2c0-.552-.448-1-1-1z\" data-reactid=\"438\"></path></svg></label><a class=\"Fw(600)\" data-reactid=\"439\" href=\"/quote/THOIX?p=THOIX\" title=\"Thornburg Global Opportunities Fund Class I\">THOIX</a><div class=\"W(3px) Pos(a) Start(100%) T(0) H(100%) Bg($pfColumnFakeShadowGradient) Pe(n) Pend(5px)\" data-reactid=\"440\"></div></td><td aria-label=\"Name\" class=\"Va(m) Ta(start) Px(10px) Fz(s)\" data-reactid=\"441\"><!-- react-text: 442 -->Thornburg Global Opportunities Fund Class I<!-- /react-text --></td><td aria-label=\"Change\" class=\"Va(m) Ta(end) Pstart(20px) Fw(600) Fz(s)\" data-reactid=\"443\"><span class=\"Trsdu(0.3s) Fw(600) C($dataGreen)\" data-reactid=\"444\">+0.23</span></td><td aria-label=\"% Change\" class=\"Va(m) Ta(end) Pstart(20px) Fw(600) Fz(s)\" data-reactid=\"445\"><span class=\"Trsdu(0.3s) Fw(600) C($dataGreen)\" data-reactid=\"446\">+0.76%</span></td><td aria-label=\"Price (Intraday)\" class=\"Va(m) Ta(end) Pstart(20px) Fz(s)\" data-reactid=\"447\"><!-- react-text: 448 -->30.08<!-- /react-text --></td><td aria-label=\"50 Day Average\" class=\"Va(m) Ta(end) Pstart(20px) Fz(s)\" data-reactid=\"449\"><!-- react-text: 450 -->28.48<!-- /react-text --></td><td aria-label=\"200 Day Average\" class=\"Va(m) Ta(end) Pstart(20px) Fz(s)\" data-reactid=\"451\"><!-- react-text: 452 -->27.78<!-- /react-text --></td><td class=\"Va(m) Ta(end) Pstart(20px) Pend(10px) W(120px) Fz(s)\" data-reactid=\"453\"><!-- react-text: 454 -->2.88%<!-- /react-text --></td><td class=\"Va(m) Ta(end) Pstart(20px) Fz(s)\" data-reactid=\"455\"><!-- react-text: 456 -->17.43%<!-- /react-text --></td><td aria-label=\"52 Week Range\" class=\"Va(m) Ta(end) Pstart(20px) Pend(6px) Fz(s)\" data-reactid=\"457\"><canvas data-reactid=\"458\" style=\"width:140px;height:23px;\"></canvas></td></tr><tr class=\"simpTblRow Bgc($extraLightBlue):h BdB Bdbc($finLightGrayAlt) Bdbc($tableBorderBlue):h H(32px) Bgc($altRowColor)\" data-reactid=\"459\"><td aria-label=\"Symbol\" class=\"Va(m) Ta(start) Pstart(6px) Pend(10px) Miw(90px) Start(0) Pend(10px) simpTblRow:h_Bgc($extraLightBlue) Pos(st) Bgc(white) Bgc($altRowColor) Ta(start)! Fz(s)\" data-reactid=\"460\"><label class=\"Ta(c) Pos(r) Va(tb) Pend(5px) D(n)--print\" data-reactid=\"461\"><input class=\"Pos(a) V(h)\" data-reactid=\"462\" type=\"checkbox\"/><svg class=\"Va(m)! H(16px) W(16px) Stk($plusGray)! Fill($plusGray)! Cur(p)\" data-icon=\"checkbox-unchecked\" data-reactid=\"463\" height=\"16\" style=\"fill:#000;stroke:#000;stroke-width:0;vertical-align:bottom;\" viewbox=\"0 0 24 24\" width=\"16\"><path d=\"M3 3h18v18H3V3zm19-2H2c-.553 0-1 .448-1 1v20c0 .552.447 1 1 1h20c.552 0 1-.448 1-1V2c0-.552-.448-1-1-1z\" data-reactid=\"464\"></path></svg></label><a class=\"Fw(600)\" data-reactid=\"465\" href=\"/quote/THOCX?p=THOCX\" title=\"Thornburg Global Opportunities Fund Class C\">THOCX</a><div class=\"W(3px) Pos(a) Start(100%) T(0) H(100%) Bg($pfColumnFakeShadowGradient) Pe(n) Pend(5px)\" data-reactid=\"466\"></div></td><td aria-label=\"Name\" class=\"Va(m) Ta(start) Px(10px) Fz(s)\" data-reactid=\"467\"><!-- react-text: 468 -->Thornburg Global Opportunities Fund Class C<!-- /react-text --></td><td aria-label=\"Change\" class=\"Va(m) Ta(end) Pstart(20px) Fw(600) Fz(s)\" data-reactid=\"469\"><span class=\"Trsdu(0.3s) Fw(600) C($dataGreen)\" data-reactid=\"470\">+0.22</span></td><td aria-label=\"% Change\" class=\"Va(m) Ta(end) Pstart(20px) Fw(600) Fz(s)\" data-reactid=\"471\"><span class=\"Trsdu(0.3s) Fw(600) C($dataGreen)\" data-reactid=\"472\">+0.76%</span></td><td aria-label=\"Price (Intraday)\" class=\"Va(m) Ta(end) Pstart(20px) Fz(s)\" data-reactid=\"473\"><!-- react-text: 474 -->28.83<!-- /react-text --></td><td aria-label=\"50 Day Average\" class=\"Va(m) Ta(end) Pstart(20px) Fz(s)\" data-reactid=\"475\"><!-- react-text: 476 -->27.31<!-- /react-text --></td><td aria-label=\"200 Day Average\" class=\"Va(m) Ta(end) Pstart(20px) Fz(s)\" data-reactid=\"477\"><!-- react-text: 478 -->26.70<!-- /react-text --></td><td class=\"Va(m) Ta(end) Pstart(20px) Pend(10px) W(120px) Fz(s)\" data-reactid=\"479\"><!-- react-text: 480 -->2.63%<!-- /react-text --></td><td class=\"Va(m) Ta(end) Pstart(20px) Fz(s)\" data-reactid=\"481\"><!-- react-text: 482 -->16.43%<!-- /react-text --></td><td aria-label=\"52 Week Range\" class=\"Va(m) Ta(end) Pstart(20px) Pend(6px) Fz(s)\" data-reactid=\"483\"><canvas data-reactid=\"484\" style=\"width:140px;height:23px;\"></canvas></td></tr><tr class=\"simpTblRow Bgc($extraLightBlue):h BdB Bdbc($finLightGrayAlt) Bdbc($tableBorderBlue):h H(32px) Bgc(white)\" data-reactid=\"485\"><td aria-label=\"Symbol\" class=\"Va(m) Ta(start) Pstart(6px) Pend(10px) Miw(90px) Start(0) Pend(10px) simpTblRow:h_Bgc($extraLightBlue) Pos(st) Bgc(white) Bgc(white) Ta(start)! Fz(s)\" data-reactid=\"486\"><label class=\"Ta(c) Pos(r) Va(tb) Pend(5px) D(n)--print\" data-reactid=\"487\"><input class=\"Pos(a) V(h)\" data-reactid=\"488\" type=\"checkbox\"/><svg class=\"Va(m)! H(16px) W(16px) Stk($plusGray)! Fill($plusGray)! Cur(p)\" data-icon=\"checkbox-unchecked\" data-reactid=\"489\" height=\"16\" style=\"fill:#000;stroke:#000;stroke-width:0;vertical-align:bottom;\" viewbox=\"0 0 24 24\" width=\"16\"><path d=\"M3 3h18v18H3V3zm19-2H2c-.553 0-1 .448-1 1v20c0 .552.447 1 1 1h20c.552 0 1-.448 1-1V2c0-.552-.448-1-1-1z\" data-reactid=\"490\"></path></svg></label><a class=\"Fw(600)\" data-reactid=\"491\" href=\"/quote/RCGTX?p=RCGTX\" title=\"AllianzGI Technology Fund Class C\">RCGTX</a><div class=\"W(3px) Pos(a) Start(100%) T(0) H(100%) Bg($pfColumnFakeShadowGradient) Pe(n) Pend(5px)\" data-reactid=\"492\"></div></td><td aria-label=\"Name\" class=\"Va(m) Ta(start) Px(10px) Fz(s)\" data-reactid=\"493\"><!-- react-text: 494 -->AllianzGI Technology Fund Class C<!-- /react-text --></td><td aria-label=\"Change\" class=\"Va(m) Ta(end) Pstart(20px) Fw(600) Fz(s)\" data-reactid=\"495\"><span class=\"Trsdu(0.3s) Fw(600) C($dataGreen)\" data-reactid=\"496\">+0.33</span></td><td aria-label=\"% Change\" class=\"Va(m) Ta(end) Pstart(20px) Fw(600) Fz(s)\" data-reactid=\"497\"><span class=\"Trsdu(0.3s) Fw(600) C($dataGreen)\" data-reactid=\"498\">+0.75%</span></td><td aria-label=\"Price (Intraday)\" class=\"Va(m) Ta(end) Pstart(20px) Fz(s)\" data-reactid=\"499\"><!-- react-text: 500 -->43.81<!-- /react-text --></td><td aria-label=\"50 Day Average\" class=\"Va(m) Ta(end) Pstart(20px) Fz(s)\" data-reactid=\"501\"><!-- react-text: 502 -->42.78<!-- /react-text --></td><td aria-label=\"200 Day Average\" class=\"Va(m) Ta(end) Pstart(20px) Fz(s)\" data-reactid=\"503\"><!-- react-text: 504 -->44.43<!-- /react-text --></td><td class=\"Va(m) Ta(end) Pstart(20px) Pend(10px) W(120px) Fz(s)\" data-reactid=\"505\"><!-- react-text: 506 -->-7.25%<!-- /react-text --></td><td class=\"Va(m) Ta(end) Pstart(20px) Fz(s)\" data-reactid=\"507\"><!-- react-text: 508 -->18.32%<!-- /react-text --></td><td aria-label=\"52 Week Range\" class=\"Va(m) Ta(end) Pstart(20px) Pend(6px) Fz(s)\" data-reactid=\"509\"><canvas data-reactid=\"510\" style=\"width:140px;height:23px;\"></canvas></td></tr><tr class=\"simpTblRow Bgc($extraLightBlue):h BdB Bdbc($finLightGrayAlt) Bdbc($tableBorderBlue):h H(32px) Bgc($altRowColor)\" data-reactid=\"511\"><td aria-label=\"Symbol\" class=\"Va(m) Ta(start) Pstart(6px) Pend(10px) Miw(90px) Start(0) Pend(10px) simpTblRow:h_Bgc($extraLightBlue) Pos(st) Bgc(white) Bgc($altRowColor) Ta(start)! Fz(s)\" data-reactid=\"512\"><label class=\"Ta(c) Pos(r) Va(tb) Pend(5px) D(n)--print\" data-reactid=\"513\"><input class=\"Pos(a) V(h)\" data-reactid=\"514\" type=\"checkbox\"/><svg class=\"Va(m)! H(16px) W(16px) Stk($plusGray)! Fill($plusGray)! Cur(p)\" data-icon=\"checkbox-unchecked\" data-reactid=\"515\" height=\"16\" style=\"fill:#000;stroke:#000;stroke-width:0;vertical-align:bottom;\" viewbox=\"0 0 24 24\" width=\"16\"><path d=\"M3 3h18v18H3V3zm19-2H2c-.553 0-1 .448-1 1v20c0 .552.447 1 1 1h20c.552 0 1-.448 1-1V2c0-.552-.448-1-1-1z\" data-reactid=\"516\"></path></svg></label><a class=\"Fw(600)\" data-reactid=\"517\" href=\"/quote/JNGLX?p=JNGLX\" title=\"Janus Henderson Global Life Sciences Fund Class D\">JNGLX</a><div class=\"W(3px) Pos(a) Start(100%) T(0) H(100%) Bg($pfColumnFakeShadowGradient) Pe(n) Pend(5px)\" data-reactid=\"518\"></div></td><td aria-label=\"Name\" class=\"Va(m) Ta(start) Px(10px) Fz(s)\" data-reactid=\"519\"><!-- react-text: 520 -->Janus Henderson Global Life Sciences Fund Class D<!-- /react-text --></td><td aria-label=\"Change\" class=\"Va(m) Ta(end) Pstart(20px) Fw(600) Fz(s)\" data-reactid=\"521\"><span class=\"Trsdu(0.3s) Fw(600) C($dataGreen)\" data-reactid=\"522\">+0.44</span></td><td aria-label=\"% Change\" class=\"Va(m) Ta(end) Pstart(20px) Fw(600) Fz(s)\" data-reactid=\"523\"><span class=\"Trsdu(0.3s) Fw(600) C($dataGreen)\" data-reactid=\"524\">+0.75%</span></td><td aria-label=\"Price (Intraday)\" class=\"Va(m) Ta(end) Pstart(20px) Fz(s)\" data-reactid=\"525\"><!-- react-text: 526 -->59.04<!-- /react-text --></td><td aria-label=\"50 Day Average\" class=\"Va(m) Ta(end) Pstart(20px) Fz(s)\" data-reactid=\"527\"><!-- react-text: 528 -->56.10<!-- /react-text --></td><td aria-label=\"200 Day Average\" class=\"Va(m) Ta(end) Pstart(20px) Fz(s)\" data-reactid=\"529\"><!-- react-text: 530 -->56.63<!-- /react-text --></td><td class=\"Va(m) Ta(end) Pstart(20px) Pend(10px) W(120px) Fz(s)\" data-reactid=\"531\"><!-- react-text: 532 -->-0.87%<!-- /react-text --></td><td class=\"Va(m) Ta(end) Pstart(20px) Fz(s)\" data-reactid=\"533\"><!-- react-text: 534 -->14.51%<!-- /react-text --></td><td aria-label=\"52 Week Range\" class=\"Va(m) Ta(end) Pstart(20px) Pend(6px) Fz(s)\" data-reactid=\"535\"><canvas data-reactid=\"536\" style=\"width:140px;height:23px;\"></canvas></td></tr><tr class=\"simpTblRow Bgc($extraLightBlue):h BdB Bdbc($finLightGrayAlt) Bdbc($tableBorderBlue):h H(32px) Bgc(white)\" data-reactid=\"537\"><td aria-label=\"Symbol\" class=\"Va(m) Ta(start) Pstart(6px) Pend(10px) Miw(90px) Start(0) Pend(10px) simpTblRow:h_Bgc($extraLightBlue) Pos(st) Bgc(white) Bgc(white) Ta(start)! Fz(s)\" data-reactid=\"538\"><label class=\"Ta(c) Pos(r) Va(tb) Pend(5px) D(n)--print\" data-reactid=\"539\"><input class=\"Pos(a) V(h)\" data-reactid=\"540\" type=\"checkbox\"/><svg class=\"Va(m)! H(16px) W(16px) Stk($plusGray)! Fill($plusGray)! Cur(p)\" data-icon=\"checkbox-unchecked\" data-reactid=\"541\" height=\"16\" style=\"fill:#000;stroke:#000;stroke-width:0;vertical-align:bottom;\" viewbox=\"0 0 24 24\" width=\"16\"><path d=\"M3 3h18v18H3V3zm19-2H2c-.553 0-1 .448-1 1v20c0 .552.447 1 1 1h20c.552 0 1-.448 1-1V2c0-.552-.448-1-1-1z\" data-reactid=\"542\"></path></svg></label><a class=\"Fw(600)\" data-reactid=\"543\" href=\"/quote/JFNIX?p=JFNIX\" title=\"Janus Henderson Global Life Sciences Fund Class I\">JFNIX</a><div class=\"W(3px) Pos(a) Start(100%) T(0) H(100%) Bg($pfColumnFakeShadowGradient) Pe(n) Pend(5px)\" data-reactid=\"544\"></div></td><td aria-label=\"Name\" class=\"Va(m) Ta(start) Px(10px) Fz(s)\" data-reactid=\"545\"><!-- react-text: 546 -->Janus Henderson Global Life Sciences Fund Class I<!-- /react-text --></td><td aria-label=\"Change\" class=\"Va(m) Ta(end) Pstart(20px) Fw(600) Fz(s)\" data-reactid=\"547\"><span class=\"Trsdu(0.3s) Fw(600) C($dataGreen)\" data-reactid=\"548\">+0.44</span></td><td aria-label=\"% Change\" class=\"Va(m) Ta(end) Pstart(20px) Fw(600) Fz(s)\" data-reactid=\"549\"><span class=\"Trsdu(0.3s) Fw(600) C($dataGreen)\" data-reactid=\"550\">+0.74%</span></td><td aria-label=\"Price (Intraday)\" class=\"Va(m) Ta(end) Pstart(20px) Fz(s)\" data-reactid=\"551\"><!-- react-text: 552 -->59.16<!-- /react-text --></td><td aria-label=\"50 Day Average\" class=\"Va(m) Ta(end) Pstart(20px) Fz(s)\" data-reactid=\"553\"><!-- react-text: 554 -->56.21<!-- /react-text --></td><td aria-label=\"200 Day Average\" class=\"Va(m) Ta(end) Pstart(20px) Fz(s)\" data-reactid=\"555\"><!-- react-text: 556 -->56.74<!-- /react-text --></td><td class=\"Va(m) Ta(end) Pstart(20px) Pend(10px) W(120px) Fz(s)\" data-reactid=\"557\"><!-- react-text: 558 -->-0.86%<!-- /react-text --></td><td class=\"Va(m) Ta(end) Pstart(20px) Fz(s)\" data-reactid=\"559\"><!-- react-text: 560 -->14.56%<!-- /react-text --></td><td aria-label=\"52 Week Range\" class=\"Va(m) Ta(end) Pstart(20px) Pend(6px) Fz(s)\" data-reactid=\"561\"><canvas data-reactid=\"562\" style=\"width:140px;height:23px;\"></canvas></td></tr><tr class=\"simpTblRow Bgc($extraLightBlue):h BdB Bdbc($finLightGrayAlt) Bdbc($tableBorderBlue):h H(32px) Bgc($altRowColor)\" data-reactid=\"563\"><td aria-label=\"Symbol\" class=\"Va(m) Ta(start) Pstart(6px) Pend(10px) Miw(90px) Start(0) Pend(10px) simpTblRow:h_Bgc($extraLightBlue) Pos(st) Bgc(white) Bgc($altRowColor) Ta(start)! Fz(s)\" data-reactid=\"564\"><label class=\"Ta(c) Pos(r) Va(tb) Pend(5px) D(n)--print\" data-reactid=\"565\"><input class=\"Pos(a) V(h)\" data-reactid=\"566\" type=\"checkbox\"/><svg class=\"Va(m)! H(16px) W(16px) Stk($plusGray)! Fill($plusGray)! Cur(p)\" data-icon=\"checkbox-unchecked\" data-reactid=\"567\" height=\"16\" style=\"fill:#000;stroke:#000;stroke-width:0;vertical-align:bottom;\" viewbox=\"0 0 24 24\" width=\"16\"><path d=\"M3 3h18v18H3V3zm19-2H2c-.553 0-1 .448-1 1v20c0 .552.447 1 1 1h20c.552 0 1-.448 1-1V2c0-.552-.448-1-1-1z\" data-reactid=\"568\"></path></svg></label><a class=\"Fw(600)\" data-reactid=\"569\" href=\"/quote/JFNAX?p=JFNAX\" title=\"Janus Henderson Global Life Sciences Fund Class A\">JFNAX</a><div class=\"W(3px) Pos(a) Start(100%) T(0) H(100%) Bg($pfColumnFakeShadowGradient) Pe(n) Pend(5px)\" data-reactid=\"570\"></div></td><td aria-label=\"Name\" class=\"Va(m) Ta(start) Px(10px) Fz(s)\" data-reactid=\"571\"><!-- react-text: 572 -->Janus Henderson Global Life Sciences Fund Class A<!-- /react-text --></td><td aria-label=\"Change\" class=\"Va(m) Ta(end) Pstart(20px) Fw(600) Fz(s)\" data-reactid=\"573\"><span class=\"Trsdu(0.3s) Fw(600) C($dataGreen)\" data-reactid=\"574\">+0.43</span></td><td aria-label=\"% Change\" class=\"Va(m) Ta(end) Pstart(20px) Fw(600) Fz(s)\" data-reactid=\"575\"><span class=\"Trsdu(0.3s) Fw(600) C($dataGreen)\" data-reactid=\"576\">+0.74%</span></td><td aria-label=\"Price (Intraday)\" class=\"Va(m) Ta(end) Pstart(20px) Fz(s)\" data-reactid=\"577\"><!-- react-text: 578 -->57.99<!-- /react-text --></td><td aria-label=\"50 Day Average\" class=\"Va(m) Ta(end) Pstart(20px) Fz(s)\" data-reactid=\"579\"><!-- react-text: 580 -->55.11<!-- /react-text --></td><td aria-label=\"200 Day Average\" class=\"Va(m) Ta(end) Pstart(20px) Fz(s)\" data-reactid=\"581\"><!-- react-text: 582 -->55.65<!-- /react-text --></td><td class=\"Va(m) Ta(end) Pstart(20px) Pend(10px) W(120px) Fz(s)\" data-reactid=\"583\"><!-- react-text: 584 -->-0.93%<!-- /react-text --></td><td class=\"Va(m) Ta(end) Pstart(20px) Fz(s)\" data-reactid=\"585\"><!-- react-text: 586 -->14.34%<!-- /react-text --></td><td aria-label=\"52 Week Range\" class=\"Va(m) Ta(end) Pstart(20px) Pend(6px) Fz(s)\" data-reactid=\"587\"><canvas data-reactid=\"588\" style=\"width:140px;height:23px;\"></canvas></td></tr><tr class=\"simpTblRow Bgc($extraLightBlue):h BdB Bdbc($finLightGrayAlt) Bdbc($tableBorderBlue):h H(32px) Bgc(white)\" data-reactid=\"589\"><td aria-label=\"Symbol\" class=\"Va(m) Ta(start) Pstart(6px) Pend(10px) Miw(90px) Start(0) Pend(10px) simpTblRow:h_Bgc($extraLightBlue) Pos(st) Bgc(white) Bgc(white) Ta(start)! Fz(s)\" data-reactid=\"590\"><label class=\"Ta(c) Pos(r) Va(tb) Pend(5px) D(n)--print\" data-reactid=\"591\"><input class=\"Pos(a) V(h)\" data-reactid=\"592\" type=\"checkbox\"/><svg class=\"Va(m)! H(16px) W(16px) Stk($plusGray)! Fill($plusGray)! Cur(p)\" data-icon=\"checkbox-unchecked\" data-reactid=\"593\" height=\"16\" style=\"fill:#000;stroke:#000;stroke-width:0;vertical-align:bottom;\" viewbox=\"0 0 24 24\" width=\"16\"><path d=\"M3 3h18v18H3V3zm19-2H2c-.553 0-1 .448-1 1v20c0 .552.447 1 1 1h20c.552 0 1-.448 1-1V2c0-.552-.448-1-1-1z\" data-reactid=\"594\"></path></svg></label><a class=\"Fw(600)\" data-reactid=\"595\" href=\"/quote/JFNCX?p=JFNCX\" title=\"Janus Henderson Global Life Sciences Fund Class C\">JFNCX</a><div class=\"W(3px) Pos(a) Start(100%) T(0) H(100%) Bg($pfColumnFakeShadowGradient) Pe(n) Pend(5px)\" data-reactid=\"596\"></div></td><td aria-label=\"Name\" class=\"Va(m) Ta(start) Px(10px) Fz(s)\" data-reactid=\"597\"><!-- react-text: 598 -->Janus Henderson Global Life Sciences Fund Class C<!-- /react-text --></td><td aria-label=\"Change\" class=\"Va(m) Ta(end) Pstart(20px) Fw(600) Fz(s)\" data-reactid=\"599\"><span class=\"Trsdu(0.3s) Fw(600) C($dataGreen)\" data-reactid=\"600\">+0.39</span></td><td aria-label=\"% Change\" class=\"Va(m) Ta(end) Pstart(20px) Fw(600) Fz(s)\" data-reactid=\"601\"><span class=\"Trsdu(0.3s) Fw(600) C($dataGreen)\" data-reactid=\"602\">+0.74%</span></td><td aria-label=\"Price (Intraday)\" class=\"Va(m) Ta(end) Pstart(20px) Fz(s)\" data-reactid=\"603\"><!-- react-text: 604 -->52.68<!-- /react-text --></td><td aria-label=\"50 Day Average\" class=\"Va(m) Ta(end) Pstart(20px) Fz(s)\" data-reactid=\"605\"><!-- react-text: 606 -->50.09<!-- /react-text --></td><td aria-label=\"200 Day Average\" class=\"Va(m) Ta(end) Pstart(20px) Fz(s)\" data-reactid=\"607\"><!-- react-text: 608 -->50.64<!-- /react-text --></td><td class=\"Va(m) Ta(end) Pstart(20px) Pend(10px) W(120px) Fz(s)\" data-reactid=\"609\"><!-- react-text: 610 -->-1.09%<!-- /react-text --></td><td class=\"Va(m) Ta(end) Pstart(20px) Fz(s)\" data-reactid=\"611\"><!-- react-text: 612 -->13.69%<!-- /react-text --></td><td aria-label=\"52 Week Range\" class=\"Va(m) Ta(end) Pstart(20px) Pend(6px) Fz(s)\" data-reactid=\"613\"><canvas data-reactid=\"614\" style=\"width:140px;height:23px;\"></canvas></td></tr><tr class=\"simpTblRow Bgc($extraLightBlue):h BdB Bdbc($finLightGrayAlt) Bdbc($tableBorderBlue):h H(32px) Bgc($altRowColor)\" data-reactid=\"615\"><td aria-label=\"Symbol\" class=\"Va(m) Ta(start) Pstart(6px) Pend(10px) Miw(90px) Start(0) Pend(10px) simpTblRow:h_Bgc($extraLightBlue) Pos(st) Bgc(white) Bgc($altRowColor) Ta(start)! Fz(s)\" data-reactid=\"616\"><label class=\"Ta(c) Pos(r) Va(tb) Pend(5px) D(n)--print\" data-reactid=\"617\"><input class=\"Pos(a) V(h)\" data-reactid=\"618\" type=\"checkbox\"/><svg class=\"Va(m)! H(16px) W(16px) Stk($plusGray)! Fill($plusGray)! Cur(p)\" data-icon=\"checkbox-unchecked\" data-reactid=\"619\" height=\"16\" style=\"fill:#000;stroke:#000;stroke-width:0;vertical-align:bottom;\" viewbox=\"0 0 24 24\" width=\"16\"><path d=\"M3 3h18v18H3V3zm19-2H2c-.553 0-1 .448-1 1v20c0 .552.447 1 1 1h20c.552 0 1-.448 1-1V2c0-.552-.448-1-1-1z\" data-reactid=\"620\"></path></svg></label><a class=\"Fw(600)\" data-reactid=\"621\" href=\"/quote/CSGZX?p=CSGZX\" title=\"Columbia Seligman Global Technology Fund Institutional Class\">CSGZX</a><div class=\"W(3px) Pos(a) Start(100%) T(0) H(100%) Bg($pfColumnFakeShadowGradient) Pe(n) Pend(5px)\" data-reactid=\"622\"></div></td><td aria-label=\"Name\" class=\"Va(m) Ta(start) Px(10px) Fz(s)\" data-reactid=\"623\"><!-- react-text: 624 -->Columbia Seligman Global Technology Fund Institutional Class<!-- /react-text --></td><td aria-label=\"Change\" class=\"Va(m) Ta(end) Pstart(20px) Fw(600) Fz(s)\" data-reactid=\"625\"><span class=\"Trsdu(0.3s) Fw(600) C($dataGreen)\" data-reactid=\"626\">+0.35</span></td><td aria-label=\"% Change\" class=\"Va(m) Ta(end) Pstart(20px) Fw(600) Fz(s)\" data-reactid=\"627\"><span class=\"Trsdu(0.3s) Fw(600) C($dataGreen)\" data-reactid=\"628\">+0.74%</span></td><td aria-label=\"Price (Intraday)\" class=\"Va(m) Ta(end) Pstart(20px) Fz(s)\" data-reactid=\"629\"><!-- react-text: 630 -->47.37<!-- /react-text --></td><td aria-label=\"50 Day Average\" class=\"Va(m) Ta(end) Pstart(20px) Fz(s)\" data-reactid=\"631\"><!-- react-text: 632 -->44.83<!-- /react-text --></td><td aria-label=\"200 Day Average\" class=\"Va(m) Ta(end) Pstart(20px) Fz(s)\" data-reactid=\"633\"><!-- react-text: 634 -->42.64<!-- /react-text --></td><td class=\"Va(m) Ta(end) Pstart(20px) Pend(10px) W(120px) Fz(s)\" data-reactid=\"635\"><!-- react-text: 636 -->3.89%<!-- /react-text --></td><td class=\"Va(m) Ta(end) Pstart(20px) Fz(s)\" data-reactid=\"637\"><!-- react-text: 638 -->40.17%<!-- /react-text --></td><td aria-label=\"52 Week Range\" class=\"Va(m) Ta(end) Pstart(20px) Pend(6px) Fz(s)\" data-reactid=\"639\"><canvas data-reactid=\"640\" style=\"width:140px;height:23px;\"></canvas></td></tr><tr class=\"simpTblRow Bgc($extraLightBlue):h BdB Bdbc($finLightGrayAlt) Bdbc($tableBorderBlue):h H(32px) Bgc(white)\" data-reactid=\"641\"><td aria-label=\"Symbol\" class=\"Va(m) Ta(start) Pstart(6px) Pend(10px) Miw(90px) Start(0) Pend(10px) simpTblRow:h_Bgc($extraLightBlue) Pos(st) Bgc(white) Bgc(white) Ta(start)! Fz(s)\" data-reactid=\"642\"><label class=\"Ta(c) Pos(r) Va(tb) Pend(5px) D(n)--print\" data-reactid=\"643\"><input class=\"Pos(a) V(h)\" data-reactid=\"644\" type=\"checkbox\"/><svg class=\"Va(m)! H(16px) W(16px) Stk($plusGray)! Fill($plusGray)! Cur(p)\" data-icon=\"checkbox-unchecked\" data-reactid=\"645\" height=\"16\" style=\"fill:#000;stroke:#000;stroke-width:0;vertical-align:bottom;\" viewbox=\"0 0 24 24\" width=\"16\"><path d=\"M3 3h18v18H3V3zm19-2H2c-.553 0-1 .448-1 1v20c0 .552.447 1 1 1h20c.552 0 1-.448 1-1V2c0-.552-.448-1-1-1z\" data-reactid=\"646\"></path></svg></label><a class=\"Fw(600)\" data-reactid=\"647\" href=\"/quote/JFNSX?p=JFNSX\" title=\"Janus Henderson Global Life Sciences Fund Class S\">JFNSX</a><div class=\"W(3px) Pos(a) Start(100%) T(0) H(100%) Bg($pfColumnFakeShadowGradient) Pe(n) Pend(5px)\" data-reactid=\"648\"></div></td><td aria-label=\"Name\" class=\"Va(m) Ta(start) Px(10px) Fz(s)\" data-reactid=\"649\"><!-- react-text: 650 -->Janus Henderson Global Life Sciences Fund Class S<!-- /react-text --></td><td aria-label=\"Change\" class=\"Va(m) Ta(end) Pstart(20px) Fw(600) Fz(s)\" data-reactid=\"651\"><span class=\"Trsdu(0.3s) Fw(600) C($dataGreen)\" data-reactid=\"652\">+0.42</span></td><td aria-label=\"% Change\" class=\"Va(m) Ta(end) Pstart(20px) Fw(600) Fz(s)\" data-reactid=\"653\"><span class=\"Trsdu(0.3s) Fw(600) C($dataGreen)\" data-reactid=\"654\">+0.74%</span></td><td aria-label=\"Price (Intraday)\" class=\"Va(m) Ta(end) Pstart(20px) Fz(s)\" data-reactid=\"655\"><!-- react-text: 656 -->56.95<!-- /react-text --></td><td aria-label=\"50 Day Average\" class=\"Va(m) Ta(end) Pstart(20px) Fz(s)\" data-reactid=\"657\"><!-- react-text: 658 -->54.13<!-- /react-text --></td><td aria-label=\"200 Day Average\" class=\"Va(m) Ta(end) Pstart(20px) Fz(s)\" data-reactid=\"659\"><!-- react-text: 660 -->54.68<!-- /react-text --></td><td class=\"Va(m) Ta(end) Pstart(20px) Pend(10px) W(120px) Fz(s)\" data-reactid=\"661\"><!-- react-text: 662 -->-0.96%<!-- /react-text --></td><td class=\"Va(m) Ta(end) Pstart(20px) Fz(s)\" data-reactid=\"663\"><!-- react-text: 664 -->14.17%<!-- /react-text --></td><td aria-label=\"52 Week Range\" class=\"Va(m) Ta(end) Pstart(20px) Pend(6px) Fz(s)\" data-reactid=\"665\"><canvas data-reactid=\"666\" style=\"width:140px;height:23px;\"></canvas></td></tr><tr class=\"simpTblRow Bgc($extraLightBlue):h BdB Bdbc($finLightGrayAlt) Bdbc($tableBorderBlue):h H(32px) Bgc($altRowColor)\" data-reactid=\"667\"><td aria-label=\"Symbol\" class=\"Va(m) Ta(start) Pstart(6px) Pend(10px) Miw(90px) Start(0) Pend(10px) simpTblRow:h_Bgc($extraLightBlue) Pos(st) Bgc(white) Bgc($altRowColor) Ta(start)! Fz(s)\" data-reactid=\"668\"><label class=\"Ta(c) Pos(r) Va(tb) Pend(5px) D(n)--print\" data-reactid=\"669\"><input class=\"Pos(a) V(h)\" data-reactid=\"670\" type=\"checkbox\"/><svg class=\"Va(m)! H(16px) W(16px) Stk($plusGray)! Fill($plusGray)! Cur(p)\" data-icon=\"checkbox-unchecked\" data-reactid=\"671\" height=\"16\" style=\"fill:#000;stroke:#000;stroke-width:0;vertical-align:bottom;\" viewbox=\"0 0 24 24\" width=\"16\"><path d=\"M3 3h18v18H3V3zm19-2H2c-.553 0-1 .448-1 1v20c0 .552.447 1 1 1h20c.552 0 1-.448 1-1V2c0-.552-.448-1-1-1z\" data-reactid=\"672\"></path></svg></label><a class=\"Fw(600)\" data-reactid=\"673\" href=\"/quote/SGTTX?p=SGTTX\" title=\"Columbia Seligman Global Technology Fund Institutional 2 Class\">SGTTX</a><div class=\"W(3px) Pos(a) Start(100%) T(0) H(100%) Bg($pfColumnFakeShadowGradient) Pe(n) Pend(5px)\" data-reactid=\"674\"></div></td><td aria-label=\"Name\" class=\"Va(m) Ta(start) Px(10px) Fz(s)\" data-reactid=\"675\"><!-- react-text: 676 -->Columbia Seligman Global Technology Fund Institutional 2 Class<!-- /react-text --></td><td aria-label=\"Change\" class=\"Va(m) Ta(end) Pstart(20px) Fw(600) Fz(s)\" data-reactid=\"677\"><span class=\"Trsdu(0.3s) Fw(600) C($dataGreen)\" data-reactid=\"678\">+0.35</span></td><td aria-label=\"% Change\" class=\"Va(m) Ta(end) Pstart(20px) Fw(600) Fz(s)\" data-reactid=\"679\"><span class=\"Trsdu(0.3s) Fw(600) C($dataGreen)\" data-reactid=\"680\">+0.73%</span></td><td aria-label=\"Price (Intraday)\" class=\"Va(m) Ta(end) Pstart(20px) Fz(s)\" data-reactid=\"681\"><!-- react-text: 682 -->47.66<!-- /react-text --></td><td aria-label=\"50 Day Average\" class=\"Va(m) Ta(end) Pstart(20px) Fz(s)\" data-reactid=\"683\"><!-- react-text: 684 -->45.10<!-- /react-text --></td><td aria-label=\"200 Day Average\" class=\"Va(m) Ta(end) Pstart(20px) Fz(s)\" data-reactid=\"685\"><!-- react-text: 686 -->42.90<!-- /react-text --></td><td class=\"Va(m) Ta(end) Pstart(20px) Pend(10px) W(120px) Fz(s)\" data-reactid=\"687\"><!-- react-text: 688 -->3.92%<!-- /react-text --></td><td class=\"Va(m) Ta(end) Pstart(20px) Fz(s)\" data-reactid=\"689\"><!-- react-text: 690 -->40.27%<!-- /react-text --></td><td aria-label=\"52 Week Range\" class=\"Va(m) Ta(end) Pstart(20px) Pend(6px) Fz(s)\" data-reactid=\"691\"><canvas data-reactid=\"692\" style=\"width:140px;height:23px;\"></canvas></td></tr><tr class=\"simpTblRow Bgc($extraLightBlue):h BdB Bdbc($finLightGrayAlt) Bdbc($tableBorderBlue):h H(32px) Bgc(white)\" data-reactid=\"693\"><td aria-label=\"Symbol\" class=\"Va(m) Ta(start) Pstart(6px) Pend(10px) Miw(90px) Start(0) Pend(10px) simpTblRow:h_Bgc($extraLightBlue) Pos(st) Bgc(white) Bgc(white) Ta(start)! Fz(s)\" data-reactid=\"694\"><label class=\"Ta(c) Pos(r) Va(tb) Pend(5px) D(n)--print\" data-reactid=\"695\"><input class=\"Pos(a) V(h)\" data-reactid=\"696\" type=\"checkbox\"/><svg class=\"Va(m)! H(16px) W(16px) Stk($plusGray)! Fill($plusGray)! Cur(p)\" data-icon=\"checkbox-unchecked\" data-reactid=\"697\" height=\"16\" style=\"fill:#000;stroke:#000;stroke-width:0;vertical-align:bottom;\" viewbox=\"0 0 24 24\" width=\"16\"><path d=\"M3 3h18v18H3V3zm19-2H2c-.553 0-1 .448-1 1v20c0 .552.447 1 1 1h20c.552 0 1-.448 1-1V2c0-.552-.448-1-1-1z\" data-reactid=\"698\"></path></svg></label><a class=\"Fw(600)\" data-reactid=\"699\" href=\"/quote/JAGLX?p=JAGLX\" title=\"Janus Henderson Global Life Sciences Fund Class T\">JAGLX</a><div class=\"W(3px) Pos(a) Start(100%) T(0) H(100%) Bg($pfColumnFakeShadowGradient) Pe(n) Pend(5px)\" data-reactid=\"700\"></div></td><td aria-label=\"Name\" class=\"Va(m) Ta(start) Px(10px) Fz(s)\" data-reactid=\"701\"><!-- react-text: 702 -->Janus Henderson Global Life Sciences Fund Class T<!-- /react-text --></td><td aria-label=\"Change\" class=\"Va(m) Ta(end) Pstart(20px) Fw(600) Fz(s)\" data-reactid=\"703\"><span class=\"Trsdu(0.3s) Fw(600) C($dataGreen)\" data-reactid=\"704\">+0.43</span></td><td aria-label=\"% Change\" class=\"Va(m) Ta(end) Pstart(20px) Fw(600) Fz(s)\" data-reactid=\"705\"><span class=\"Trsdu(0.3s) Fw(600) C($dataGreen)\" data-reactid=\"706\">+0.73%</span></td><td aria-label=\"Price (Intraday)\" class=\"Va(m) Ta(end) Pstart(20px) Fz(s)\" data-reactid=\"707\"><!-- react-text: 708 -->58.75<!-- /react-text --></td><td aria-label=\"50 Day Average\" class=\"Va(m) Ta(end) Pstart(20px) Fz(s)\" data-reactid=\"709\"><!-- react-text: 710 -->55.82<!-- /react-text --></td><td aria-label=\"200 Day Average\" class=\"Va(m) Ta(end) Pstart(20px) Fz(s)\" data-reactid=\"711\"><!-- react-text: 712 -->56.36<!-- /react-text --></td><td class=\"Va(m) Ta(end) Pstart(20px) Pend(10px) W(120px) Fz(s)\" data-reactid=\"713\"><!-- react-text: 714 -->-0.90%<!-- /react-text --></td><td class=\"Va(m) Ta(end) Pstart(20px) Fz(s)\" data-reactid=\"715\"><!-- react-text: 716 -->14.45%<!-- /react-text --></td><td aria-label=\"52 Week Range\" class=\"Va(m) Ta(end) Pstart(20px) Pend(6px) Fz(s)\" data-reactid=\"717\"><canvas data-reactid=\"718\" style=\"width:140px;height:23px;\"></canvas></td></tr></tbody></table>]"
      ]
     },
     "execution_count": 14,
     "metadata": {},
     "output_type": "execute_result"
    }
   ],
   "source": [
    "subjects"
   ]
  },
  {
   "cell_type": "code",
   "execution_count": 31,
   "metadata": {},
   "outputs": [
    {
     "data": {
      "text/plain": [
       "'https://finance.yahoo.com/quote/FGADX?p=FGADX'"
      ]
     },
     "execution_count": 31,
     "metadata": {},
     "output_type": "execute_result"
    }
   ],
   "source": [
    "f_url = subjects[0].find_all('tr')[1].find_all('td', class_=\"Va(m)\")[0].find_all('a')[0].get('href')\n",
    "link_pre + f_url"
   ]
  },
  {
   "cell_type": "code",
   "execution_count": 32,
   "metadata": {},
   "outputs": [
    {
     "name": "stdout",
     "output_type": "stream",
     "text": [
      "Franklin Gold and Precious Metals Fund Advisor Class\n",
      "FGADX\n"
     ]
    }
   ],
   "source": [
    "title = subjects[0].find_all('tr')[1].find_all('td', class_=\"Va(m)\")[0].find_all('a')[0].get('title')\n",
    "print(title)\n",
    "ticker=subjects[0].find_all('tr')[1].find_all('td', class_=\"Va(m)\")[0].find_all('a')[0].get('href').split('=')[-1]\n",
    "print(ticker)"
   ]
  },
  {
   "cell_type": "code",
   "execution_count": 33,
   "metadata": {},
   "outputs": [],
   "source": [
    "#new_table = pd.DataFrame(columns=range(0,2), index = [0]) # I know the size\n",
    "#f = open(\"fo.txt\",\"a+\")"
   ]
  },
  {
   "cell_type": "code",
   "execution_count": 55,
   "metadata": {},
   "outputs": [],
   "source": [
    "import nltk"
   ]
  },
  {
   "cell_type": "code",
   "execution_count": 57,
   "metadata": {
    "scrolled": true
   },
   "outputs": [
    {
     "name": "stdout",
     "output_type": "stream",
     "text": [
      "https://finance.yahoo.com/quote/FGADX/performance?p=FGADX\n",
      "exception\n",
      "exception\n",
      "exception\n",
      "exception\n",
      "exception\n",
      "exception\n",
      "exception\n",
      "exception\n",
      "exception\n",
      "exception\n",
      "https://finance.yahoo.com/quote/LDVAX/performance?p=LDVAX\n",
      "exception\n",
      "exception\n",
      "exception\n",
      "exception\n",
      "exception\n",
      "exception\n",
      "exception\n",
      "exception\n",
      "exception\n",
      "exception\n",
      "https://finance.yahoo.com/quote/BFOCX/performance?p=BFOCX\n",
      "exception\n",
      "exception\n",
      "exception\n",
      "exception\n",
      "exception\n",
      "exception\n",
      "exception\n",
      "exception\n",
      "exception\n",
      "exception\n",
      "https://finance.yahoo.com/quote/SSETX/performance?p=SSETX\n",
      "exception\n",
      "exception\n",
      "exception\n",
      "exception\n",
      "exception\n",
      "exception\n",
      "exception\n",
      "exception\n",
      "exception\n",
      "exception\n",
      "https://finance.yahoo.com/quote/AGOZX/performance?p=AGOZX\n",
      "exception\n",
      "exception\n",
      "exception\n",
      "exception\n",
      "exception\n",
      "exception\n",
      "exception\n",
      "exception\n",
      "exception\n",
      "exception\n",
      "https://finance.yahoo.com/quote/RYOIX/performance?p=RYOIX\n",
      "exception\n",
      "exception\n",
      "exception\n",
      "exception\n",
      "exception\n",
      "exception\n",
      "exception\n",
      "exception\n",
      "exception\n",
      "exception\n",
      "https://finance.yahoo.com/quote/FJSCX/performance?p=FJSCX\n",
      "exception\n",
      "exception\n",
      "exception\n",
      "exception\n",
      "exception\n",
      "exception\n",
      "exception\n",
      "exception\n",
      "exception\n",
      "exception\n",
      "https://finance.yahoo.com/quote/FSMEX/performance?p=FSMEX\n",
      "exception\n",
      "exception\n",
      "exception\n",
      "exception\n",
      "exception\n",
      "exception\n",
      "exception\n",
      "exception\n",
      "exception\n",
      "exception\n",
      "https://finance.yahoo.com/quote/THORX/performance?p=THORX\n",
      "exception\n",
      "exception\n",
      "exception\n",
      "exception\n",
      "exception\n",
      "exception\n",
      "exception\n",
      "exception\n",
      "exception\n",
      "exception\n",
      "https://finance.yahoo.com/quote/SLMCX/performance?p=SLMCX\n",
      "exception\n",
      "exception\n",
      "exception\n",
      "exception\n",
      "exception\n",
      "exception\n",
      "exception\n",
      "exception\n",
      "exception\n",
      "exception\n",
      "https://finance.yahoo.com/quote/SCIOX/performance?p=SCIOX\n",
      "exception\n",
      "exception\n",
      "exception\n",
      "exception\n",
      "exception\n",
      "exception\n",
      "exception\n",
      "exception\n",
      "exception\n",
      "exception\n",
      "https://finance.yahoo.com/quote/SCMIX/performance?p=SCMIX\n",
      "exception\n",
      "exception\n",
      "exception\n",
      "exception\n",
      "exception\n",
      "exception\n",
      "exception\n",
      "exception\n",
      "exception\n",
      "exception\n",
      "https://finance.yahoo.com/quote/SCIRX/performance?p=SCIRX\n",
      "exception\n",
      "exception\n",
      "exception\n",
      "exception\n",
      "exception\n",
      "exception\n",
      "exception\n",
      "exception\n",
      "exception\n",
      "exception\n",
      "https://finance.yahoo.com/quote/CCIZX/performance?p=CCIZX\n",
      "exception\n",
      "exception\n",
      "exception\n",
      "exception\n",
      "exception\n",
      "exception\n",
      "exception\n",
      "exception\n",
      "exception\n",
      "exception\n",
      "https://finance.yahoo.com/quote/THOIX/performance?p=THOIX\n",
      "exception\n",
      "exception\n",
      "exception\n",
      "exception\n",
      "exception\n",
      "exception\n",
      "exception\n",
      "exception\n",
      "exception\n",
      "exception\n",
      "https://finance.yahoo.com/quote/THOCX/performance?p=THOCX\n",
      "exception\n",
      "exception\n",
      "exception\n",
      "exception\n",
      "exception\n",
      "exception\n",
      "exception\n",
      "exception\n",
      "exception\n",
      "exception\n",
      "https://finance.yahoo.com/quote/RCGTX/performance?p=RCGTX\n",
      "exception\n",
      "exception\n",
      "exception\n",
      "exception\n",
      "exception\n",
      "exception\n",
      "exception\n",
      "exception\n",
      "exception\n",
      "exception\n",
      "https://finance.yahoo.com/quote/JNGLX/performance?p=JNGLX\n",
      "exception\n",
      "exception\n",
      "exception\n",
      "exception\n",
      "exception\n",
      "exception\n",
      "exception\n",
      "exception\n",
      "exception\n",
      "exception\n",
      "https://finance.yahoo.com/quote/JFNIX/performance?p=JFNIX\n",
      "exception\n",
      "exception\n",
      "exception\n",
      "exception\n",
      "exception\n",
      "exception\n",
      "exception\n",
      "exception\n",
      "exception\n",
      "exception\n",
      "https://finance.yahoo.com/quote/JFNAX/performance?p=JFNAX\n",
      "exception\n",
      "exception\n",
      "exception\n",
      "exception\n",
      "exception\n",
      "exception\n",
      "exception\n",
      "exception\n",
      "exception\n",
      "exception\n",
      "https://finance.yahoo.com/quote/JFNCX/performance?p=JFNCX\n",
      "exception\n",
      "exception\n",
      "exception\n",
      "exception\n",
      "exception\n",
      "exception\n",
      "exception\n",
      "exception\n",
      "exception\n",
      "exception\n",
      "https://finance.yahoo.com/quote/CSGZX/performance?p=CSGZX\n",
      "exception\n",
      "exception\n",
      "exception\n",
      "exception\n",
      "exception\n",
      "exception\n",
      "exception\n",
      "exception\n",
      "exception\n",
      "exception\n",
      "https://finance.yahoo.com/quote/JFNSX/performance?p=JFNSX\n",
      "exception\n",
      "exception\n",
      "exception\n",
      "exception\n",
      "exception\n",
      "exception\n",
      "exception\n",
      "exception\n",
      "exception\n",
      "exception\n",
      "https://finance.yahoo.com/quote/SGTTX/performance?p=SGTTX\n",
      "exception\n",
      "exception\n",
      "exception\n",
      "exception\n",
      "exception\n",
      "exception\n",
      "exception\n",
      "exception\n",
      "exception\n",
      "exception\n",
      "https://finance.yahoo.com/quote/JAGLX/performance?p=JAGLX\n",
      "exception\n",
      "exception\n",
      "exception\n",
      "exception\n",
      "exception\n",
      "exception\n",
      "exception\n",
      "exception\n",
      "exception\n",
      "exception\n"
     ]
    }
   ],
   "source": [
    "for row in subjects[0].find_all('tr'):\n",
    "        column_marker = 0\n",
    "        columns = row.find_all('td', class_=\"Va(m)\")\n",
    "        for column in columns:\n",
    "            #new_table.iat[row_marker,column_marker] = column.get_text()\n",
    "            #f_name = column.find_all('a')[0].get('title')\n",
    "            try:\n",
    "                #print(column)\n",
    "                f_url = column.find_all('a')[0].get('href')\n",
    "                ticker = f_url.split('=')[-1]\n",
    "                #print(column.find_all('a')[0].get('href'))\n",
    "                full_url = link_pre + '/quote/'+ticker+'/performance?p='+ticker\n",
    "                column_marker += 1\n",
    "                print(full_url)\n",
    "               \n",
    "                #print(ticker, f_name)\n",
    "                sub_page = requests.get(full_url, stream=True, headers=headers)\n",
    "                #print(sub_page.text)\n",
    "                soup=BeautifulSoup(sub_page.text, 'html.parser')\n",
    "                for script in soup([\"script\", \"style\"]):\n",
    "                    script.decompose()    # rip it out\n",
    "                text = soup.get_text()\n",
    "                #print(text)\n",
    "                # break into lines and remove leading and trailing space on each\n",
    "                lines = (line.strip() for line in text.splitlines())\n",
    "                # break multi-headlines into a line each\n",
    "                chunks = (phrase.strip() for line in lines for phrase in line.split(\"  \"))\n",
    "                # drop blank lines\n",
    "                text = '\\n'.join(chunk for chunk in chunks if chunk)\n",
    "                #desc = soup.find_all('div', class_='Lh(21px)')\n",
    "                print(text.encode('utf-8'))\n",
    "                #line = ticker + ';' + f_name + ';' + desc  + '\\n'\n",
    "                #print(line)\n",
    "                #f.write(line)\n",
    "            except:\n",
    "                print('exception')\n",
    "                pass\n",
    "#f.close()"
   ]
  },
  {
   "cell_type": "code",
   "execution_count": 202,
   "metadata": {},
   "outputs": [],
   "source": [
    "#page.text"
   ]
  },
  {
   "cell_type": "code",
   "execution_count": null,
   "metadata": {},
   "outputs": [],
   "source": []
  },
  {
   "cell_type": "raw",
   "metadata": {},
   "source": [
    "for mainLoop in range(len(subjects)):\n",
    "    subjectsList = subjects[mainLoop].find_all('a')\n",
    "    #print(subjectsList)\n",
    "    for s in subjectsList:\n",
    "        #print(s.get_text())\n",
    "        #print(s.get('href'))\n",
    "        sub_title = s.get_text()\n",
    "        \n",
    "        \n",
    "        if (sub_title.strip() == \"Mathematics – Additional – 0606\"):\n",
    "            print(s.get_text())\n",
    "            # create a folder for each subject\n",
    "            sumbject_name = sub_title.strip()\n",
    "            os.makedirs(sumbject_name, exist_ok=True)\n",
    "            sub_link = s.get('href')\n",
    "            sub_page = requests.get(sub_link, stream=True, headers=headers)\n",
    "            soup=BeautifulSoup(sub_page.text, 'html.parser')\n",
    "            years_list = soup.find_all('div', class_='entry clr')\n",
    "            #print(len(years_list))\n",
    "            for year in years_list:\n",
    "                #print(year)\n",
    "                years_a_tags = year.find_all('a')\n",
    "                for i in range(len(years_a_tags)):\n",
    "                    year_text = years_a_tags[i].get_text()\n",
    "                    year_folder = sumbject_name + '/' + year_text\n",
    "                    os.makedirs(year_folder, exist_ok=True)\n",
    "                    year_url = years_a_tags[i].get('href')\n",
    "                    print(year_text)\n",
    "                    print(year_url)\n",
    "                    year_page = requests.get(year_url, stream=True, headers=headers)\n",
    "                    soup=BeautifulSoup(year_page.text, 'html.parser')\n",
    "                    papers_list = soup.find_all('div', class_='entry-content')\n",
    "                    for paper in papers_list:\n",
    "                        paper_a_tags = paper.find_all('a')\n",
    "                        for j in range(len(paper_a_tags)):\n",
    "                            #year_text = years_a_tags[i].get_text()\n",
    "                            paper_url = paper_a_tags[j].get('href')\n",
    "                            output_file = paper_url.split('/')[-1]\n",
    "                            pdfWrite(paper_url, year_folder + '/'+ output_file)\n",
    "                            print(paper_url)\n",
    "                #print(year.find_all('a').get_text())\n",
    "                #print(years.get_text())\n",
    "#h = list(subjects[0].children)[1]['href']\n",
    "#print(text.select('a')[0]['href'])"
   ]
  },
  {
   "cell_type": "raw",
   "metadata": {
    "colab": {},
    "colab_type": "code",
    "id": "AaAUA8WKkHkX"
   },
   "source": [
    "#datetime.datetime.now().strftime(\"%Y-%m-%d%H:%M:%S\")\n",
    "def pdfWrite(url, fn):\n",
    "    #url=r'https://pastpapers.papacambridge.com/Cambridge%20International%20Examinations%20%28CIE%29/IGCSE/Mathematics%20-%20Additional%20%280606%29/2002%20Nov/0606_w02_ms_2.pdf'\n",
    "    url_c = url.replace('cie/view.php?id=/', '')\n",
    "    print(url_c)\n",
    "    req = urllib.request.Request(url_c, headers={'User-Agent': 'Mozilla/5.0'})  \n",
    "    r = requests.get(url)\n",
    "    #fn = 'maths' + datetime.datetime.now().strftime(\"_%Y-%m-%d_%H%M%S\") + '.pdf'\n",
    "    with open(fn, \"wb\") as code:\n",
    "        code.write(r.content)"
   ]
  },
  {
   "cell_type": "raw",
   "metadata": {
    "colab": {
     "base_uri": "https://localhost:8080/",
     "height": 177194
    },
    "colab_type": "code",
    "id": "iC3877slD9vH",
    "outputId": "29caf045-6462-4168-8653-19c9e076f407"
   },
   "source": [
    "\n",
    "for i in range(0,len(subjects)):\n",
    "#for i in range(0,1):\n",
    "  subject_link = link_pre + subjects[i]['href']\n",
    "  subject_name = subjects[i].contents[0].strip()\n",
    "  \n",
    "  if(subject_name not in subjects_list):\n",
    "    continue\n",
    "  os.makedirs(subject_name, exist_ok=True)\n",
    "  #subject_link = r'https://pastpapers.co/cie/?dir=IGCSE%2FMathematics-Additional-0606'\n",
    "  print('subject link:',subject_link)\n",
    "  print('subject name:', subject_name)\n",
    "  subject_page = requests.get(subject_link)\n",
    "  subject_soup = BeautifulSoup(subject_page.text, 'html.parser')\n",
    "  years_dirs = subject_soup.find_all(class_='item dir')\n",
    "  print('year dirs length: ', len(years_dirs))\n",
    "  #print(years_dirs)\n",
    "  for j in range(0,len(years_dirs)):\n",
    "    year_link = link_pre + years_dirs[j]['href']\n",
    "    year_name = years_dirs[j].contents[0].strip()\n",
    "    os.makedirs(subject_name + '/' + year_name, exist_ok=True)\n",
    "    print('year link:',year_link)\n",
    "    year_page = requests.get(year_link)\n",
    "    year_soup = BeautifulSoup(year_page.text, 'html.parser')\n",
    "    term_dirs = year_soup.find_all(class_='item dir')\n",
    "    print('term years length:', len(term_dirs))\n",
    "    if (len(term_dirs)>0):\n",
    "      print('term years found')\n",
    "      for k in range(0, len(term_dirs)):\n",
    "        qp_link = link_pre + term_dirs[k]['href']\n",
    "        term_year_name = term_dirs[k].contents[0].strip()\n",
    "        os.makedirs(subject_name + '/' + year_name + '/' + term_year_name, exist_ok=True)\n",
    "        print(qp_link)\n",
    "        qp_page = requests.get(qp_link)\n",
    "        qp_soup = BeautifulSoup(qp_page.text, 'html.parser')\n",
    "        qp_list = qp_soup.find_all(class_='item _blank pdf')\n",
    "        print('question papers length: ', len(qp_list))\n",
    "        for l in range(0, len(qp_list)):\n",
    "          qp_pdf = link_pre + r'/cie/' + qp_list[l]['href']\n",
    "          qp_name = qp_list[l].contents[0].strip()\n",
    "          print('Subject Name: ', subject_name, ' Year Name:', year_name, ' Term Year Name: ', term_year_name, ' File Name: ', qp_name)\n",
    "          fn = subject_name + '/' + year_name + '/' + term_year_name + '/' + qp_name \n",
    "          print(qp_pdf, fn)\n",
    "          pdfWrite(qp_pdf,fn)\n",
    "    else:\n",
    "      print('****term years not found******')\n",
    "      qp_link = link_pre + years_dirs[j]['href']\n",
    "      qp_page = requests.get(qp_link)\n",
    "      qp_soup = BeautifulSoup(qp_page.text, 'html.parser')\n",
    "      qp_list = qp_soup.find_all(class_='item _blank pdf')\n",
    "      print('question papers length: ', len(qp_list))\n",
    "      for l in range(0, len(qp_list)):\n",
    "        qp_pdf = link_pre + r'/cie/' + qp_list[l]['href']\n",
    "        qp_name = qp_list[l].contents[0].strip()\n",
    "        print('Subject Name: ', subject_name, ' Year Name:', year_name, ' File Name: ', qp_name)\n",
    "        fn = subject_name + '/' + year_name + '/' + qp_name\n",
    "        print(qp_pdf)\n",
    "        pdfWrite(qp_pdf, fn)\n",
    "    \n",
    "\n",
    "    #https://pastpapers.co/cie/view.php?id=/cie/IGCSE/Mathematics-Additional-0606/2002/2002%20Nov/0606_w02_er.pdf"
   ]
  },
  {
   "cell_type": "code",
   "execution_count": 8,
   "metadata": {
    "colab": {
     "base_uri": "https://localhost:8080/",
     "height": 34
    },
    "colab_type": "code",
    "id": "cN5sbiu1Ew-X",
    "outputId": "8e80502b-891a-43e1-f529-ea916b510d2e"
   },
   "outputs": [],
   "source": [
    "#len(subjects)\n",
    "#new_link = link_pre + subjects[0]['href']\n",
    "#new_link"
   ]
  },
  {
   "cell_type": "code",
   "execution_count": 9,
   "metadata": {
    "colab": {},
    "colab_type": "code",
    "id": "eYiw9mZLFVsM"
   },
   "outputs": [],
   "source": [
    "#new_link = 'https://pastpapers.co/cie/?dir=IGCSE%2FWorld-Literature-0408'\n",
    "#new_link = 'https://pastpapers.co/cie/?dir=IGCSE%2FMathematics-Additional-0606%2F2018-March'\n",
    "#new_link = 'https://pastpapers.co/cie/?dir=IGCSE%2FMathematics-Additional-0606%2F2002%2F2002%20Nov'\n",
    "#new_link = r'https://pastpapers.co/cie/?dir=IGCSE%2FMathematics-Additional-0606'\n",
    "#new_link = r'https://pastpapers.co/cie/?dir=IGCSE%2FMathematics-Additional-0606%2F2002'\n",
    "#new_page = requests.get(new_link)\n",
    "#new_soup = BeautifulSoup(new_page.text, 'html.parser')\n"
   ]
  },
  {
   "cell_type": "code",
   "execution_count": 10,
   "metadata": {
    "colab": {
     "base_uri": "https://localhost:8080/",
     "height": 34
    },
    "colab_type": "code",
    "id": "AUAFYErAHUay",
    "outputId": "ed5e7d31-6f41-4873-e388-f53b7c730652"
   },
   "outputs": [],
   "source": [
    "#dirs = new_soup.find_all(class_='item _blank pdf')\n",
    "#dirs = new_soup.find_all(class_='item dir')\n",
    "#new_soup\n",
    "#dirs[0].contents[0].strip()"
   ]
  },
  {
   "cell_type": "code",
   "execution_count": 188,
   "metadata": {
    "colab": {},
    "colab_type": "code",
    "id": "3iMRgVZu0KEE"
   },
   "outputs": [],
   "source": [
    "#url_i = 'https://pastpapers.co/cie/view.php?id=/cie/IGCSE/Mathematics-Additional-0606/2002/2002 Nov/0606_w02_er.pdf'\n",
    "\n",
    "#pdfWrite('https://pastpapers.co/cie/view.php?id=/cie/IGCSE/Mathematics-Additional-0606/2002/2002%20Nov/0606_w02_er.pdf', 'qp_test.pdf')\n",
    "#pdfWrite(url_i, 'qp_test.pdf')"
   ]
  },
  {
   "cell_type": "code",
   "execution_count": 189,
   "metadata": {},
   "outputs": [],
   "source": [
    "#https://pastpapers.co/cie/view.php?id=/cie/IGCSE/Mathematics-Additional-0606/2002/2002 Nov/0606_w02_er.pdf"
   ]
  },
  {
   "cell_type": "code",
   "execution_count": null,
   "metadata": {},
   "outputs": [],
   "source": []
  }
 ],
 "metadata": {
  "colab": {
   "collapsed_sections": [],
   "name": "IGCSE_QP_V1.ipynb",
   "provenance": [],
   "version": "0.3.2"
  },
  "kernelspec": {
   "display_name": "Python 3",
   "language": "python",
   "name": "python3"
  },
  "language_info": {
   "codemirror_mode": {
    "name": "ipython",
    "version": 3
   },
   "file_extension": ".py",
   "mimetype": "text/x-python",
   "name": "python",
   "nbconvert_exporter": "python",
   "pygments_lexer": "ipython3",
   "version": "3.7.4"
  }
 },
 "nbformat": 4,
 "nbformat_minor": 1
}
