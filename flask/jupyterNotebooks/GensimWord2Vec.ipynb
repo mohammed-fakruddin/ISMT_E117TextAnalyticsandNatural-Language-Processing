{
 "cells": [
  {
   "cell_type": "code",
   "execution_count": 1,
   "metadata": {},
   "outputs": [],
   "source": [
    "from gensim.models import Word2Vec"
   ]
  },
  {
   "cell_type": "code",
   "execution_count": 2,
   "metadata": {},
   "outputs": [],
   "source": [
    "sentences = [['this', 'is', 'the', 'first', 'sentence' ,'for', 'word2vec'],\n",
    "            ['this', 'is', 'the', 'sencond', 'sentence'],\n",
    "            ['yet', 'another', 'sentence'],\n",
    "            ['one', 'more', 'sentence'],\n",
    "            ['and', 'the', 'final', 'sentence']]"
   ]
  },
  {
   "cell_type": "code",
   "execution_count": 3,
   "metadata": {},
   "outputs": [],
   "source": [
    "model = Word2Vec(sentences, min_count=1)"
   ]
  },
  {
   "cell_type": "code",
   "execution_count": 4,
   "metadata": {},
   "outputs": [
    {
     "name": "stdout",
     "output_type": "stream",
     "text": [
      "Word2Vec(vocab=14, size=100, alpha=0.025)\n"
     ]
    }
   ],
   "source": [
    "print(model)"
   ]
  },
  {
   "cell_type": "code",
   "execution_count": 5,
   "metadata": {},
   "outputs": [],
   "source": [
    "words = list(model.wv.vocab)"
   ]
  },
  {
   "cell_type": "code",
   "execution_count": 6,
   "metadata": {},
   "outputs": [
    {
     "name": "stdout",
     "output_type": "stream",
     "text": [
      "['this', 'is', 'the', 'first', 'sentence', 'for', 'word2vec', 'sencond', 'yet', 'another', 'one', 'more', 'and', 'final']\n"
     ]
    }
   ],
   "source": [
    "print(words)"
   ]
  },
  {
   "cell_type": "code",
   "execution_count": 7,
   "metadata": {},
   "outputs": [
    {
     "name": "stdout",
     "output_type": "stream",
     "text": [
      "[ 3.1773949e-03  2.6310852e-03 -3.1814703e-03 -5.0264498e-04\n",
      "  1.2018572e-03  2.6451692e-03  2.8728535e-03 -3.5480016e-03\n",
      " -4.7105327e-03  1.4422422e-03  1.7061463e-03 -3.8834044e-03\n",
      "  4.2955065e-03 -4.7144433e-03  1.8158468e-03  4.3721367e-03\n",
      "  2.4996649e-03 -4.8182900e-03 -7.0566038e-04  5.2668393e-04\n",
      " -3.8738842e-03 -4.2175641e-03  3.2571951e-04  1.5116875e-03\n",
      " -2.5370156e-03  4.9670821e-04  3.4034774e-03  7.6108397e-04\n",
      "  3.7028459e-03 -2.2044487e-03 -1.7697148e-03 -1.8845956e-03\n",
      " -1.7569355e-04 -1.1743045e-03  1.7316464e-03 -3.2263473e-03\n",
      "  1.9483039e-03  3.1631826e-03 -2.9815680e-03 -2.2827501e-03\n",
      "  2.4087166e-03  2.0062065e-04  3.4940536e-03  9.0710586e-05\n",
      " -2.0039047e-03 -4.0530465e-03 -3.6900144e-04  3.3168674e-03\n",
      " -3.9457674e-03  2.9136103e-03 -1.1261152e-03 -1.0872103e-03\n",
      " -2.6854998e-03  3.4834188e-03 -3.2837566e-03  3.2436594e-03\n",
      " -3.6993297e-03 -1.5097350e-03 -8.5161685e-04 -2.1176403e-03\n",
      "  1.3955162e-03 -1.1477245e-03 -3.8065484e-03  2.8196275e-03\n",
      "  2.7377359e-04  2.6441859e-03  2.5529957e-03 -2.3954636e-03\n",
      " -3.5488061e-04  6.4688490e-04 -4.3917713e-03  4.6460708e-03\n",
      " -4.2149811e-03  5.0711783e-04 -1.2733254e-03  1.3621040e-03\n",
      " -3.2676279e-03  7.5228728e-04 -4.3888032e-03 -9.7703037e-04\n",
      "  3.0922845e-03  2.6912421e-03  7.6105160e-04  6.3898083e-04\n",
      " -4.2777495e-03  4.2331293e-03 -2.6333521e-03  4.8060077e-03\n",
      " -2.8383993e-03  3.7445438e-03 -3.4412607e-03 -5.3843413e-04\n",
      "  4.6154587e-03 -3.5668726e-03  3.9213561e-03 -4.7778973e-04\n",
      " -2.6179450e-03  2.1871990e-03 -3.1158968e-03  2.2868116e-03]\n"
     ]
    },
    {
     "name": "stderr",
     "output_type": "stream",
     "text": [
      "c:\\users\\fakru\\appdata\\local\\programs\\python\\python37\\lib\\site-packages\\ipykernel_launcher.py:1: DeprecationWarning: Call to deprecated `__getitem__` (Method will be removed in 4.0.0, use self.wv.__getitem__() instead).\n",
      "  \"\"\"Entry point for launching an IPython kernel.\n"
     ]
    }
   ],
   "source": [
    "print(model['sentence'])"
   ]
  },
  {
   "cell_type": "code",
   "execution_count": null,
   "metadata": {},
   "outputs": [],
   "source": []
  }
 ],
 "metadata": {
  "kernelspec": {
   "display_name": "Python 3",
   "language": "python",
   "name": "python3"
  },
  "language_info": {
   "codemirror_mode": {
    "name": "ipython",
    "version": 3
   },
   "file_extension": ".py",
   "mimetype": "text/x-python",
   "name": "python",
   "nbconvert_exporter": "python",
   "pygments_lexer": "ipython3",
   "version": "3.7.4"
  }
 },
 "nbformat": 4,
 "nbformat_minor": 2
}
