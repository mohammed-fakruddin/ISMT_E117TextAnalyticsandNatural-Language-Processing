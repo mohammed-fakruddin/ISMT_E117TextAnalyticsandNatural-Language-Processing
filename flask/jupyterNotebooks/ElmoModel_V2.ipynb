{
 "cells": [
  {
   "cell_type": "code",
   "execution_count": 45,
   "metadata": {},
   "outputs": [],
   "source": [
    "from absl import logging\n",
    "\n",
    "import tensorflow as tf\n",
    "import tensorflow_hub as hub\n",
    "import matplotlib.pyplot as plt\n",
    "import numpy as np\n",
    "import os\n",
    "import pandas as pd\n",
    "import re\n",
    "import seaborn as sns\n",
    "import string\n",
    "import operator\n",
    "from IPython.display import HTML"
   ]
  },
  {
   "cell_type": "code",
   "execution_count": 46,
   "metadata": {},
   "outputs": [],
   "source": [
    "import pickle"
   ]
  },
  {
   "cell_type": "code",
   "execution_count": 47,
   "metadata": {},
   "outputs": [],
   "source": [
    "from Folse.flask.pythonModules import preProcess"
   ]
  },
  {
   "cell_type": "code",
   "execution_count": 48,
   "metadata": {},
   "outputs": [],
   "source": [
    "df = pd.read_csv('fo.csv', encoding='ISO-8859-1')\n",
    "fund_objectives = df['Objective'].values"
   ]
  },
  {
   "cell_type": "code",
   "execution_count": 49,
   "metadata": {},
   "outputs": [],
   "source": [
    "data_cleaned = preProcess.pre_process_sent(fund_objectives)\n",
    "#print(data_cleaned)"
   ]
  },
  {
   "cell_type": "code",
   "execution_count": 50,
   "metadata": {},
   "outputs": [],
   "source": [
    "# ELMO expects the input to be sentences rather than word tokens\n",
    "# therefore, join back the cleaned tokens to sentences\n",
    "data_cleaned_sentences = []\n",
    "for arr in data_cleaned:\n",
    "    data_cleaned_sentences.append(\" \".join(arr))\n",
    "#print(data_cleaned_sentences)"
   ]
  },
  {
   "cell_type": "code",
   "execution_count": 51,
   "metadata": {},
   "outputs": [
    {
     "name": "stdout",
     "output_type": "stream",
     "text": [
      "771\n",
      "['maximize total returns current income capital appreciation investing primarily financial credit sector globally including banks insurance finance companies focusing subordinated debt securities financial credit sector including contingent convertible bonds cocos preferred shares may rated investment grade investment grade', 'high total investment return investing global portfolio shortduration investment grade fixedincome securities hedging nonus dollardenominated positions us dollars minimize risks currency fluctuations drawing large global team evaluate topdown factors influencing markets well bottomup factors affecting bond prices', 'longterm capital growth investing stocks across eurozone offer compelling longterm return potential attractive valuations taking longterm perspective order capitalize shortterm market inefficiencies created investors overreaction macroeconomic industry companyspecific concerns employing disciplined bottomup approach combines fundamental research proprietary quantitative tools identify attractive investment opportunities', 'high total return maximizing current income achieving capital appreciation maintaining diversified portfolio investment grade noninvestment grade fixedincome securities issued european companies governments flexibility invest noneuropean issuers investing predominantly euro european currencydenominated securities dynamically balancing higheryielding euro fixedincome assets lower risk government bonds generate yield diverse sources employing multisector approach search best opportunities', 'longterm capital growth investing stocks companies throughout europe offer compelling longterm return potential attractive valuations taking longterm perspective order capitalize shortterm market inefficiencies created investors overreaction macroeconomic industry companyspecific concerns employing disciplined bottomup approach combines fundamental research proprietary quantitative tools identify attractive investment opportunities', 'high total return combination income capital appreciation investing mainly higher yielding lowerrated investment grade corporate debt denominated hedged euros flexibility take large overweight positions segments euro highyield market market conditions change generating returns combination debt security analysis selection sector allocation country selection well currencyoriented decisions', 'portfolio achieve investment objective investing equity securities socially responsible companies located throughout world including developed emerging market countries', 'current income longterm growth capital', 'investment objective portfolio achieve longterm capital growth portfolio pursue objective investing normal circumstances primarily times least twothirds assets equity securities companies domiciled primary operations emerging market countries within investment framework portfolio may invest companies size subsector emergingmarkets sector', 'investment objective maximize total return total return thesum capital appreciation income']\n"
     ]
    }
   ],
   "source": [
    "print(len(data_cleaned_sentences))\n",
    "print(data_cleaned_sentences[0:10])"
   ]
  },
  {
   "cell_type": "code",
   "execution_count": 52,
   "metadata": {},
   "outputs": [],
   "source": [
    "url = \"https://tfhub.dev/google/elmo/2\"\n",
    "embed = hub.Module(url)"
   ]
  },
  {
   "cell_type": "code",
   "execution_count": 53,
   "metadata": {},
   "outputs": [],
   "source": [
    "def elmo_vectors(x):\n",
    "  embeddings = embed(x, signature=\"default\", as_dict=True)[\"elmo\"]\n",
    "\n",
    "  with tf.Session() as sess:\n",
    "    sess.run(tf.global_variables_initializer())\n",
    "    sess.run(tf.tables_initializer())\n",
    "    # return average of ELMo features\n",
    "    return sess.run(tf.reduce_mean(embeddings,1))"
   ]
  },
  {
   "cell_type": "code",
   "execution_count": 54,
   "metadata": {},
   "outputs": [],
   "source": [
    "#embeddings = embed(\n",
    "#    fund_objectives[:400],\n",
    "#    signature=\"default\",\n",
    "#    as_dict=True)[\"default\"]"
   ]
  },
  {
   "cell_type": "code",
   "execution_count": 55,
   "metadata": {},
   "outputs": [],
   "source": [
    "# create a generator so that the ELMO vectors are generated in small chunks of 100\n",
    "# this is essential otherwise we will face OUT of MEMORY errors\n",
    "list_data_cleaned_sentences = [data_cleaned_sentences[i:i+100] for i in range(0,len(data_cleaned_sentences),100)]"
   ]
  },
  {
   "cell_type": "code",
   "execution_count": 56,
   "metadata": {},
   "outputs": [
    {
     "name": "stdout",
     "output_type": "stream",
     "text": [
      "INFO:tensorflow:Saver not created because there are no variables in the graph to restore\n"
     ]
    },
    {
     "name": "stderr",
     "output_type": "stream",
     "text": [
      "INFO:tensorflow:Saver not created because there are no variables in the graph to restore\n"
     ]
    },
    {
     "name": "stdout",
     "output_type": "stream",
     "text": [
      "INFO:tensorflow:Saver not created because there are no variables in the graph to restore\n"
     ]
    },
    {
     "name": "stderr",
     "output_type": "stream",
     "text": [
      "INFO:tensorflow:Saver not created because there are no variables in the graph to restore\n"
     ]
    },
    {
     "name": "stdout",
     "output_type": "stream",
     "text": [
      "INFO:tensorflow:Saver not created because there are no variables in the graph to restore\n"
     ]
    },
    {
     "name": "stderr",
     "output_type": "stream",
     "text": [
      "INFO:tensorflow:Saver not created because there are no variables in the graph to restore\n"
     ]
    },
    {
     "name": "stdout",
     "output_type": "stream",
     "text": [
      "INFO:tensorflow:Saver not created because there are no variables in the graph to restore\n"
     ]
    },
    {
     "name": "stderr",
     "output_type": "stream",
     "text": [
      "INFO:tensorflow:Saver not created because there are no variables in the graph to restore\n"
     ]
    },
    {
     "name": "stdout",
     "output_type": "stream",
     "text": [
      "INFO:tensorflow:Saver not created because there are no variables in the graph to restore\n"
     ]
    },
    {
     "name": "stderr",
     "output_type": "stream",
     "text": [
      "INFO:tensorflow:Saver not created because there are no variables in the graph to restore\n"
     ]
    },
    {
     "name": "stdout",
     "output_type": "stream",
     "text": [
      "INFO:tensorflow:Saver not created because there are no variables in the graph to restore\n"
     ]
    },
    {
     "name": "stderr",
     "output_type": "stream",
     "text": [
      "INFO:tensorflow:Saver not created because there are no variables in the graph to restore\n"
     ]
    },
    {
     "name": "stdout",
     "output_type": "stream",
     "text": [
      "INFO:tensorflow:Saver not created because there are no variables in the graph to restore\n"
     ]
    },
    {
     "name": "stderr",
     "output_type": "stream",
     "text": [
      "INFO:tensorflow:Saver not created because there are no variables in the graph to restore\n"
     ]
    },
    {
     "name": "stdout",
     "output_type": "stream",
     "text": [
      "INFO:tensorflow:Saver not created because there are no variables in the graph to restore\n"
     ]
    },
    {
     "name": "stderr",
     "output_type": "stream",
     "text": [
      "INFO:tensorflow:Saver not created because there are no variables in the graph to restore\n"
     ]
    }
   ],
   "source": [
    "elmo_doc_vectors = [elmo_vectors(x) for x in list_data_cleaned_sentences]"
   ]
  },
  {
   "cell_type": "code",
   "execution_count": 57,
   "metadata": {},
   "outputs": [],
   "source": [
    "elmo_doc_vectors_concat = np.concatenate(elmo_doc_vectors, axis = 0)"
   ]
  },
  {
   "cell_type": "code",
   "execution_count": 58,
   "metadata": {},
   "outputs": [],
   "source": [
    "pickle_out = open(\"elmo_vectors_03122019.pickle\",\"wb\")\n",
    "pickle.dump(elmo_doc_vectors_concat, pickle_out)\n",
    "pickle_out.close()"
   ]
  },
  {
   "cell_type": "code",
   "execution_count": 59,
   "metadata": {},
   "outputs": [],
   "source": [
    "# load the elmo vectors from the disk for re-use\n",
    "pickle_in = open(\"elmo_vectors_03122019.pickle\", \"rb\")\n",
    "elmo_doc_vectors_load = pickle.load(pickle_in)"
   ]
  },
  {
   "cell_type": "code",
   "execution_count": 60,
   "metadata": {},
   "outputs": [],
   "source": [
    "#%%time\n",
    "#with tf.Session() as sess:\n",
    "#  sess.run(tf.global_variables_initializer())\n",
    "#  sess.run(tf.tables_initializer())\n",
    "#  x = sess.run(elmo_doc_vectors_load)"
   ]
  },
  {
   "cell_type": "code",
   "execution_count": 74,
   "metadata": {},
   "outputs": [
    {
     "name": "stdout",
     "output_type": "stream",
     "text": [
      "INFO:tensorflow:Saver not created because there are no variables in the graph to restore\n"
     ]
    },
    {
     "name": "stderr",
     "output_type": "stream",
     "text": [
      "INFO:tensorflow:Saver not created because there are no variables in the graph to restore\n"
     ]
    },
    {
     "data": {
      "text/html": [
       "<h3>Results:</h3><p style=\"font-family:verdana; font-size:110%;\"> 0.7808,  The <b>Fund</b> seeks <b>to</b> provide high <b>income</b> <b>and</b> some <b>capital</b> appreciation. The <b>Fund</b> seeks <b>to</b> <b>invest</b> <b>at</b> least 80% of its net assets <b>in</b> income-producing securities or other income-producing instruments. The <b>Fund</b> may <b>invest</b> <b>in</b> <b>a</b> variety of securities <b>in</b> <b>an</b> effort <b>to</b> enhance <b>income</b> <b>and</b> achieve some <b>capital</b> growth.</p><hr><p style=\"font-family:verdana; font-size:110%;\"> 0.7808,  The <b>Fund</b> seeks <b>to</b> provide high <b>income</b> <b>and</b> some <b>capital</b> appreciation. The <b>Fund</b> seeks <b>to</b> <b>invest</b> <b>at</b> least 80% of its net assets <b>in</b> income-producing securities or other income-producing instruments. The <b>Fund</b> may <b>invest</b> <b>in</b> <b>a</b> variety of securities <b>in</b> <b>an</b> effort <b>to</b> enhance <b>income</b> <b>and</b> achieve some <b>capital</b> growth.</p><hr><p style=\"font-family:verdana; font-size:110%;\"> 0.76564,  The <b>Fund</b> seeks <b>to</b> provide long-term <b>capital</b> <b>appreciation</b> by investing <b>in</b> mid-cap stocks <b>with</b> potential for above-average earnings growth.</p><hr><p style=\"font-family:verdana; font-size:110%;\"> 0.76564,  The <b>Fund</b> seeks <b>to</b> provide long-term <b>capital</b> <b>appreciation</b> by investing <b>in</b> mid-cap stocks <b>with</b> potential for above-average earnings growth.</p><hr><p style=\"font-family:verdana; font-size:110%;\"> 0.75674,  The <b>Fund</b> seeks <b>to</b> provide long-term <b>capital</b> <b>appreciation</b> by investing <b>in</b> common stocks believed <b>to</b> be undervalued. <b>Income</b> is <b>a</b> secondary objective.</p><hr>"
      ],
      "text/plain": [
       "<IPython.core.display.HTML object>"
      ]
     },
     "metadata": {},
     "output_type": "display_data"
    }
   ],
   "source": [
    "#@title Sementic search\n",
    "#@markdown Enter a set of words to find matching sentences. 'results_returned' can beused to modify the number of matching sentences retured. To view the code behind this cell, use the menu in the top right to unhide...\n",
    "#search_string = \"The fund's investment objective is to achieve long-term growth of capital and income\" #@param {type:\"string\"}\n",
    "search_string = 'i want to invest in funds with capital appreciation and income growth'\n",
    "search_string_pre_process = preProcess.pre_process_sent(search_string)[0]\n",
    "search_string_pre_process = \" \".join(search_string_pre_process)\n",
    "\n",
    "results_returned = \"5\" #@param [1, 2, 3]\n",
    "\n",
    "from sklearn.metrics.pairwise import cosine_similarity\n",
    "\n",
    "\n",
    "embeddings2 = embed(\n",
    "    [search_string_pre_process],\n",
    "    signature=\"default\",\n",
    "    as_dict=True)[\"default\"]\n",
    "\n",
    "with tf.Session() as sess:\n",
    "  sess.run(tf.global_variables_initializer())\n",
    "  sess.run(tf.tables_initializer())\n",
    "  search_vect = sess.run(embeddings2)\n",
    "  \n",
    "\n",
    "#cosine_similarities = pd.Series(cosine_similarity(search_vect, x).flatten())\n",
    "cosine_similarities = pd.Series(cosine_similarity(search_vect, elmo_doc_vectors_load).flatten())\n",
    "output =\"\"\n",
    "for i,j in cosine_similarities.nlargest(int(results_returned)).iteritems():\n",
    "  output +='<p style=\"font-family:verdana; font-size:110%;\"> '\n",
    "  output += str(round(j,5)) + \", \"\n",
    "  for s in fund_objectives[i].split():\n",
    "    if s.lower() in search_string:\n",
    "      output += \" <b>\"+str(s)+\"</b>\"\n",
    "    else:\n",
    "      output += \" \"+str(s)\n",
    "  output += \"</p><hr>\"\n",
    "    \n",
    "output = '<h3>Results:</h3>'+output\n",
    "display(HTML(output))\n",
    "#   print(sentences[i])\n",
    "#   print('\\n')"
   ]
  },
  {
   "cell_type": "code",
   "execution_count": 76,
   "metadata": {},
   "outputs": [
    {
     "name": "stdout",
     "output_type": "stream",
     "text": [
      "415    0.780797\n",
      "416    0.780797\n",
      "476    0.765640\n",
      "477    0.765640\n",
      "605    0.756741\n",
      "dtype: float32\n"
     ]
    }
   ],
   "source": [
    "print(cosine_similarities.nlargest(5))"
   ]
  },
  {
   "cell_type": "markdown",
   "metadata": {},
   "source": [
    "# Visualizations"
   ]
  },
  {
   "cell_type": "code",
   "execution_count": 62,
   "metadata": {},
   "outputs": [],
   "source": [
    "from sklearn.decomposition import PCA\n",
    "\n",
    "pca = PCA(n_components=50)\n",
    "y = pca.fit_transform(elmo_doc_vectors_load)\n",
    "\n",
    "from sklearn.manifold import TSNE\n",
    "\n",
    "y = TSNE(n_components=2).fit_transform(y)"
   ]
  },
  {
   "cell_type": "code",
   "execution_count": 63,
   "metadata": {},
   "outputs": [],
   "source": [
    "sentences = fund_objectives"
   ]
  },
  {
   "cell_type": "code",
   "execution_count": 64,
   "metadata": {},
   "outputs": [
    {
     "data": {
      "text/html": [
       "        <script type=\"text/javascript\">\n",
       "        window.PlotlyConfig = {MathJaxConfig: 'local'};\n",
       "        if (window.MathJax) {MathJax.Hub.Config({SVG: {font: \"STIX-Web\"}});}\n",
       "        if (typeof require !== 'undefined') {\n",
       "        require.undef(\"plotly\");\n",
       "        requirejs.config({\n",
       "            paths: {\n",
       "                'plotly': ['https://cdn.plot.ly/plotly-latest.min']\n",
       "            }\n",
       "        });\n",
       "        require(['plotly'], function(Plotly) {\n",
       "            window._Plotly = Plotly;\n",
       "        });\n",
       "        }\n",
       "        </script>\n",
       "        "
      ]
     },
     "metadata": {},
     "output_type": "display_data"
    }
   ],
   "source": [
    "#import plotly.plotly as py\n",
    "import chart_studio.plotly as py\n",
    "import plotly.graph_objs as go\n",
    "from plotly.offline import download_plotlyjs, init_notebook_mode, plot, iplot\n",
    "\n",
    "init_notebook_mode(connected=True)\n",
    "\n",
    "\n",
    "data = [\n",
    "    go.Scatter(\n",
    "        x=[i[0] for i in y],\n",
    "        y=[i[1] for i in y],\n",
    "        mode='markers',\n",
    "        text=[i for i in sentences],\n",
    "    marker=dict(\n",
    "        size=16,\n",
    "        color = [len(i) for i in sentences], #set color equal to a variable\n",
    "        opacity= 0.8,\n",
    "        colorscale='Viridis',\n",
    "        showscale=False\n",
    "    )\n",
    "    )\n",
    "]\n",
    "layout = go.Layout()\n",
    "layout = dict(\n",
    "              yaxis = dict(zeroline = False),\n",
    "              xaxis = dict(zeroline = False)\n",
    "             )\n",
    "fig = go.Figure(data=data, layout=layout)\n",
    "file = plot(fig, filename='Sentence encode.html')"
   ]
  },
  {
   "cell_type": "code",
   "execution_count": 67,
   "metadata": {},
   "outputs": [],
   "source": [
    "search_string = 'short duration investment grade fixed income securities hedging non us'\n",
    "search_string_pre_process = preProcess.pre_process_sent(search_string)[0]"
   ]
  },
  {
   "cell_type": "code",
   "execution_count": 69,
   "metadata": {},
   "outputs": [],
   "source": [
    "search_string_pre_process = \" \".join(search_string_pre_process)"
   ]
  },
  {
   "cell_type": "code",
   "execution_count": 70,
   "metadata": {},
   "outputs": [
    {
     "data": {
      "text/plain": [
       "'short duration investment grade fixed income securities hedging non us'"
      ]
     },
     "execution_count": 70,
     "metadata": {},
     "output_type": "execute_result"
    }
   ],
   "source": [
    "search_string_pre_process"
   ]
  },
  {
   "cell_type": "code",
   "execution_count": null,
   "metadata": {},
   "outputs": [],
   "source": []
  }
 ],
 "metadata": {
  "kernelspec": {
   "display_name": "Python 3",
   "language": "python",
   "name": "python3"
  },
  "language_info": {
   "codemirror_mode": {
    "name": "ipython",
    "version": 3
   },
   "file_extension": ".py",
   "mimetype": "text/x-python",
   "name": "python",
   "nbconvert_exporter": "python",
   "pygments_lexer": "ipython3",
   "version": "3.7.4"
  }
 },
 "nbformat": 4,
 "nbformat_minor": 2
}
